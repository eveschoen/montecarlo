{
 "cells": [
  {
   "cell_type": "code",
   "execution_count": 1,
   "id": "5df8e527-f983-4ad2-9d75-d6f00e4e8526",
   "metadata": {},
   "outputs": [],
   "source": [
    "import pandas as pd\n",
    "import numpy as np"
   ]
  },
  {
   "cell_type": "markdown",
   "id": "548430bd-e89c-45f7-9cdb-048a1f6f8a3c",
   "metadata": {},
   "source": [
    "# Scenario 1: 2-headed coin"
   ]
  },
  {
   "cell_type": "markdown",
   "id": "87353fef-0183-4557-bce1-e001f3dbb418",
   "metadata": {},
   "source": [
    "### Create a fair coin (with faces H and T) and one unfair coin, in which one of the faces has a weight of 5 and the others 1."
   ]
  },
  {
   "cell_type": "code",
   "execution_count": 2,
   "id": "7103c62a-994a-4de0-8a64-7fbcc6175b91",
   "metadata": {},
   "outputs": [],
   "source": [
    "from montecarlo.montecarlo import Die"
   ]
  },
  {
   "cell_type": "code",
   "execution_count": 3,
   "id": "cd000199-6534-4d6f-b9ca-4543a32cc5f1",
   "metadata": {},
   "outputs": [],
   "source": [
    "arr1 = np.array(['H', 'T'])\n",
    "fair_die = Die(arr1)\n",
    "unfair_die = Die(arr1)"
   ]
  },
  {
   "cell_type": "code",
   "execution_count": 4,
   "id": "58168bd9-8642-4f4a-a4e2-c947f319c497",
   "metadata": {},
   "outputs": [],
   "source": [
    "unfair_die.change_weight('H', 5)"
   ]
  },
  {
   "cell_type": "markdown",
   "id": "131fad6a-cebb-4534-93df-c4c4d3bc6f5e",
   "metadata": {},
   "source": [
    "### Play a game of 1000 flips of three coins with all fair dice."
   ]
  },
  {
   "cell_type": "code",
   "execution_count": 5,
   "id": "c95f62ba-83ae-4bf5-abea-3f23292a0737",
   "metadata": {},
   "outputs": [],
   "source": [
    "from montecarlo.montecarlo import Game"
   ]
  },
  {
   "cell_type": "code",
   "execution_count": 6,
   "id": "ab19d2a5-547f-45ce-b665-a152c830573a",
   "metadata": {},
   "outputs": [],
   "source": [
    "fair_list = [fair_die, fair_die, fair_die]\n",
    "fair_game = Game(fair_list)"
   ]
  },
  {
   "cell_type": "code",
   "execution_count": 7,
   "id": "5165dffb-d55b-4bb5-86cc-a16d5a581b36",
   "metadata": {},
   "outputs": [],
   "source": [
    "fair_game.play(1000)"
   ]
  },
  {
   "cell_type": "markdown",
   "id": "c540b1ae-f4c2-4646-ab3d-f308a3c736fc",
   "metadata": {},
   "source": [
    "### Play a game of 1000 flips with two unfair dice and one fair die."
   ]
  },
  {
   "cell_type": "code",
   "execution_count": 8,
   "id": "008c96e4-8543-455d-bd46-88e058efbf2d",
   "metadata": {},
   "outputs": [],
   "source": [
    "unfair_list = [unfair_die, unfair_die, fair_die]\n",
    "unfair_game = Game(unfair_list)"
   ]
  },
  {
   "cell_type": "code",
   "execution_count": 9,
   "id": "eb7411d0-0e5e-435d-b2b5-5fc5d217153d",
   "metadata": {},
   "outputs": [],
   "source": [
    "unfair_game.play(1000)"
   ]
  },
  {
   "cell_type": "markdown",
   "id": "4531ace9-8564-4d62-b4e7-c78c3378878c",
   "metadata": {},
   "source": [
    "### For each game, use an Analyzer object to determine the relative frequency of jackpots – getting either all Hs or all Ts."
   ]
  },
  {
   "cell_type": "markdown",
   "id": "1ab711ed-77c1-4796-9866-609ceae90266",
   "metadata": {},
   "source": [
    "We start by analyzing the number of jackpots from the fair game."
   ]
  },
  {
   "cell_type": "code",
   "execution_count": 10,
   "id": "63a817c3-3847-4404-9088-7afbd422c829",
   "metadata": {},
   "outputs": [],
   "source": [
    "from montecarlo.montecarlo import Analyzer"
   ]
  },
  {
   "cell_type": "code",
   "execution_count": 11,
   "id": "8855f126-85a5-419a-808e-d7e762577bdc",
   "metadata": {},
   "outputs": [],
   "source": [
    "fair_results = fair_game.show_results('wide')"
   ]
  },
  {
   "cell_type": "code",
   "execution_count": 12,
   "id": "0f0768bc-abc2-4a7d-8daf-d67982f8277b",
   "metadata": {},
   "outputs": [],
   "source": [
    "fair_analysis = Analyzer(fair_results)"
   ]
  },
  {
   "cell_type": "code",
   "execution_count": 13,
   "id": "1a549872-abfa-4d6d-961c-ab3d05392e33",
   "metadata": {},
   "outputs": [
    {
     "name": "stdout",
     "output_type": "stream",
     "text": [
      "256\n"
     ]
    }
   ],
   "source": [
    "fair_jackpots = fair_analysis.comp_jackpot()\n",
    "print(fair_jackpots)"
   ]
  },
  {
   "cell_type": "markdown",
   "id": "af26a480-5d35-4fe4-8915-93a577700dc6",
   "metadata": {},
   "source": [
    "Above is the number of jackpots in the fair game."
   ]
  },
  {
   "cell_type": "markdown",
   "id": "520ca597-2e5d-4067-b1f6-90adc410f2e4",
   "metadata": {},
   "source": [
    "Now we move to analyzing the number of jackpots in the unfair game. We expect this number to be higher since we increased the weight of 'H.'"
   ]
  },
  {
   "cell_type": "code",
   "execution_count": 14,
   "id": "55dc8210-4574-4634-8608-1f2cd6dee926",
   "metadata": {},
   "outputs": [],
   "source": [
    "unfair_results = unfair_game.show_results('wide')"
   ]
  },
  {
   "cell_type": "code",
   "execution_count": 15,
   "id": "0edcfd0a-55ea-40b1-b636-ba099a330f1f",
   "metadata": {},
   "outputs": [],
   "source": [
    "unfair_analysis = Analyzer(unfair_results)"
   ]
  },
  {
   "cell_type": "code",
   "execution_count": 16,
   "id": "5bfa1d87-a3f4-4aae-817c-e8f056161c36",
   "metadata": {},
   "outputs": [
    {
     "name": "stdout",
     "output_type": "stream",
     "text": [
      "366\n"
     ]
    }
   ],
   "source": [
    "unfair_jackpots = unfair_analysis.comp_jackpot()\n",
    "print(unfair_jackpots)"
   ]
  },
  {
   "cell_type": "markdown",
   "id": "aa6b9947-c200-4dc6-81dc-1e362d9b9bb9",
   "metadata": {},
   "source": [
    "The number of jackpots for the unfair game is shown above."
   ]
  },
  {
   "cell_type": "markdown",
   "id": "ce6c98dc-d8f4-4b37-ae6c-13181dd5ec19",
   "metadata": {},
   "source": [
    "### Compute relative frequency as the number of jackpots over the total number of rolls."
   ]
  },
  {
   "cell_type": "code",
   "execution_count": 17,
   "id": "e63e1cec-d4e6-47c7-9663-f802f72e9b55",
   "metadata": {},
   "outputs": [],
   "source": [
    "fair_jackpot_freq = fair_jackpots / 1000\n",
    "unfair_jackpot_freq = unfair_jackpots / 1000"
   ]
  },
  {
   "cell_type": "markdown",
   "id": "15105f62-f1d3-440d-b12a-b0060d4de2fe",
   "metadata": {},
   "source": [
    "### Show results, comparing the two relative frequencies, in a simple bar chart."
   ]
  },
  {
   "cell_type": "code",
   "execution_count": 18,
   "id": "16c9cce4-f065-4699-a048-67b04e10bbfd",
   "metadata": {},
   "outputs": [],
   "source": [
    "import matplotlib.pyplot as plt"
   ]
  },
  {
   "cell_type": "code",
   "execution_count": 19,
   "id": "f03ce442-7950-4db0-9c67-8c61a3e265a9",
   "metadata": {},
   "outputs": [],
   "source": [
    "xaxis = ['Fair Game', 'Unfair Game']\n",
    "yaxis = [fair_jackpot_freq, unfair_jackpot_freq]\n",
    "title = 'Frequency of Jackpots within a Game'"
   ]
  },
  {
   "cell_type": "code",
   "execution_count": 20,
   "id": "43dee5c3-5fb5-4e00-b6f7-eb7ea65aeb89",
   "metadata": {},
   "outputs": [
    {
     "data": {
      "image/png": "[encoded data removed]",
      "text/plain": [
       "<Figure size 432x288 with 1 Axes>"
      ]
     },
     "metadata": {
      "needs_background": "light"
     },
     "output_type": "display_data"
    }
   ],
   "source": [
    "plt.bar(xaxis, yaxis);\n",
    "plt.title(title)\n",
    "plt.show()"
   ]
  },
  {
   "cell_type": "markdown",
   "id": "e31233a5-2220-4665-a560-e6ab3b245753",
   "metadata": {},
   "source": [
    "A barplot comparing the jackpot frequencies is displayed above."
   ]
  },
  {
   "cell_type": "markdown",
   "id": "c195abd7-7910-4500-90a9-f7f3b812d088",
   "metadata": {},
   "source": [
    "# Scenario 2: 6-sided die"
   ]
  },
  {
   "cell_type": "markdown",
   "id": "ae238150-88d0-40f4-aa36-be246dda0ab6",
   "metadata": {},
   "source": [
    "### Create a fair die and two unfair dice, all of six sides with the faces 1 through 6. One unfair die (Type 1) will weight 6 five times more than the others (i.e. it has weight of 5 and the others a weight of 1 each). The other unfair die (Type 2) will  weight 1 five times more than the others."
   ]
  },
  {
   "cell_type": "code",
   "execution_count": 21,
   "id": "b04c9492-a40e-43b7-931e-e5260ca2dd6b",
   "metadata": {},
   "outputs": [],
   "source": [
    "arr = np.array([1, 2, 3, 4, 5, 6])\n",
    "\n",
    "fair_die = Die(arr)\n",
    "\n",
    "unfair_die1 = Die(arr)\n",
    "unfair_die1.change_weight(6, 5)\n",
    "\n",
    "unfair_die2 = Die(arr)\n",
    "unfair_die2.change_weight(1, 5)"
   ]
  },
  {
   "cell_type": "markdown",
   "id": "000a708b-217c-4c1a-8f25-94b6f10ce4fe",
   "metadata": {},
   "source": [
    "### Play a game of 10000 rolls with 5 fair dice."
   ]
  },
  {
   "cell_type": "code",
   "execution_count": 22,
   "id": "377a5bd8-592d-4dd3-81f7-e9ba992a6a2e",
   "metadata": {},
   "outputs": [],
   "source": [
    "fair_list = [fair_die, fair_die, fair_die, fair_die, fair_die]\n",
    "fair_game = Game(fair_list)"
   ]
  },
  {
   "cell_type": "code",
   "execution_count": 23,
   "id": "35b2308f-ed6a-4af6-b84b-f00d03caaf20",
   "metadata": {},
   "outputs": [],
   "source": [
    "fair_game.play(10000)"
   ]
  },
  {
   "cell_type": "markdown",
   "id": "d7313242-b58c-4046-b3f0-e70aa76b761d",
   "metadata": {},
   "source": [
    "### Play a game of 10000 rolls with 2 unfair dice of type 1, 1 unfair die of type 2, and the rest fair dice."
   ]
  },
  {
   "cell_type": "code",
   "execution_count": 24,
   "id": "09b5dbf9-3c63-4c50-aeef-59c5b3eff7e6",
   "metadata": {},
   "outputs": [],
   "source": [
    "unfair_list = [unfair_die1, unfair_die1, unfair_die2, fair_die, fair_die]\n",
    "unfair_game = Game(unfair_list)"
   ]
  },
  {
   "cell_type": "code",
   "execution_count": 25,
   "id": "60ad5eb0-a38b-44ff-99f0-fd49ee0ae229",
   "metadata": {},
   "outputs": [],
   "source": [
    "unfair_game.play(10000)"
   ]
  },
  {
   "cell_type": "markdown",
   "id": "288b698b-1f5e-420c-8d8a-dc47f8cc6b7b",
   "metadata": {},
   "source": [
    "### For each game, use an Analyzer object to determine the relative frequency of jackpots and show your results, comparing the two relative frequencies, in a simple bar chart."
   ]
  },
  {
   "cell_type": "markdown",
   "id": "0b48f244-ac2c-4658-847b-14b150df7a43",
   "metadata": {},
   "source": [
    "First we analyze the fair 6-sided game."
   ]
  },
  {
   "cell_type": "code",
   "execution_count": 26,
   "id": "f1fbff81-142c-48d0-807e-1c1ddbf44f5a",
   "metadata": {},
   "outputs": [],
   "source": [
    "fair_results = fair_game.show_results('narrow')"
   ]
  },
  {
   "cell_type": "code",
   "execution_count": 27,
   "id": "5e065f37-e146-4741-9488-81024f9a4732",
   "metadata": {},
   "outputs": [],
   "source": [
    "fair_analysis = Analyzer(fair_results)"
   ]
  },
  {
   "cell_type": "code",
   "execution_count": 28,
   "id": "eb114c60-784d-4a8f-828d-993fa8ae6cb2",
   "metadata": {},
   "outputs": [
    {
     "name": "stdout",
     "output_type": "stream",
     "text": [
      "8\n"
     ]
    }
   ],
   "source": [
    "fair_jackpots = fair_analysis.comp_jackpot()\n",
    "print(fair_jackpots)"
   ]
  },
  {
   "cell_type": "code",
   "execution_count": 29,
   "id": "ad400591-5c4c-448e-aa83-996b21eb667c",
   "metadata": {},
   "outputs": [
    {
     "data": {
      "text/html": [
       "<div>\n",
       "<style scoped>\n",
       "    .dataframe tbody tr th:only-of-type {\n",
       "        vertical-align: middle;\n",
       "    }\n",
       "\n",
       "    .dataframe tbody tr th {\n",
       "        vertical-align: top;\n",
       "    }\n",
       "\n",
       "    .dataframe thead th {\n",
       "        text-align: right;\n",
       "    }\n",
       "</style>\n",
       "<table border=\"1\" class=\"dataframe\">\n",
       "  <thead>\n",
       "    <tr style=\"text-align: right;\">\n",
       "      <th></th>\n",
       "      <th>0</th>\n",
       "      <th>1</th>\n",
       "      <th>2</th>\n",
       "      <th>3</th>\n",
       "      <th>4</th>\n",
       "    </tr>\n",
       "    <tr>\n",
       "      <th>roll_number</th>\n",
       "      <th></th>\n",
       "      <th></th>\n",
       "      <th></th>\n",
       "      <th></th>\n",
       "      <th></th>\n",
       "    </tr>\n",
       "  </thead>\n",
       "  <tbody>\n",
       "    <tr>\n",
       "      <th>9</th>\n",
       "      <td>1.0</td>\n",
       "      <td>1.0</td>\n",
       "      <td>1.0</td>\n",
       "      <td>1.0</td>\n",
       "      <td>1.0</td>\n",
       "    </tr>\n",
       "    <tr>\n",
       "      <th>49</th>\n",
       "      <td>2.0</td>\n",
       "      <td>2.0</td>\n",
       "      <td>2.0</td>\n",
       "      <td>2.0</td>\n",
       "      <td>2.0</td>\n",
       "    </tr>\n",
       "    <tr>\n",
       "      <th>778</th>\n",
       "      <td>2.0</td>\n",
       "      <td>2.0</td>\n",
       "      <td>2.0</td>\n",
       "      <td>2.0</td>\n",
       "      <td>2.0</td>\n",
       "    </tr>\n",
       "    <tr>\n",
       "      <th>892</th>\n",
       "      <td>1.0</td>\n",
       "      <td>1.0</td>\n",
       "      <td>1.0</td>\n",
       "      <td>1.0</td>\n",
       "      <td>1.0</td>\n",
       "    </tr>\n",
       "    <tr>\n",
       "      <th>2896</th>\n",
       "      <td>2.0</td>\n",
       "      <td>2.0</td>\n",
       "      <td>2.0</td>\n",
       "      <td>2.0</td>\n",
       "      <td>2.0</td>\n",
       "    </tr>\n",
       "    <tr>\n",
       "      <th>3866</th>\n",
       "      <td>4.0</td>\n",
       "      <td>4.0</td>\n",
       "      <td>4.0</td>\n",
       "      <td>4.0</td>\n",
       "      <td>4.0</td>\n",
       "    </tr>\n",
       "    <tr>\n",
       "      <th>6086</th>\n",
       "      <td>3.0</td>\n",
       "      <td>3.0</td>\n",
       "      <td>3.0</td>\n",
       "      <td>3.0</td>\n",
       "      <td>3.0</td>\n",
       "    </tr>\n",
       "    <tr>\n",
       "      <th>9551</th>\n",
       "      <td>5.0</td>\n",
       "      <td>5.0</td>\n",
       "      <td>5.0</td>\n",
       "      <td>5.0</td>\n",
       "      <td>5.0</td>\n",
       "    </tr>\n",
       "  </tbody>\n",
       "</table>\n",
       "</div>"
      ],
      "text/plain": [
       "               0    1    2    3    4\n",
       "roll_number                         \n",
       "9            1.0  1.0  1.0  1.0  1.0\n",
       "49           2.0  2.0  2.0  2.0  2.0\n",
       "778          2.0  2.0  2.0  2.0  2.0\n",
       "892          1.0  1.0  1.0  1.0  1.0\n",
       "2896         2.0  2.0  2.0  2.0  2.0\n",
       "3866         4.0  4.0  4.0  4.0  4.0\n",
       "6086         3.0  3.0  3.0  3.0  3.0\n",
       "9551         5.0  5.0  5.0  5.0  5.0"
      ]
     },
     "execution_count": 29,
     "metadata": {},
     "output_type": "execute_result"
    }
   ],
   "source": [
    "fair_analysis.jackpot_df"
   ]
  },
  {
   "cell_type": "markdown",
   "id": "87e2efe7-1fef-4f99-9747-eee8119f1626",
   "metadata": {},
   "source": [
    "You can see the fair game's jackpots above."
   ]
  },
  {
   "cell_type": "markdown",
   "id": "fe3542fb-e279-4c40-93c4-89d68d1fc9dc",
   "metadata": {},
   "source": [
    "Now we will move onto analyzing the number of jackpots in the unfair game."
   ]
  },
  {
   "cell_type": "code",
   "execution_count": 30,
   "id": "28c45d94-02a1-4ae8-b9ad-e86a0533a670",
   "metadata": {},
   "outputs": [],
   "source": [
    "unfair_results = unfair_game.show_results('narrow')"
   ]
  },
  {
   "cell_type": "code",
   "execution_count": 31,
   "id": "96e324c0-c164-46fb-a172-141983eff126",
   "metadata": {},
   "outputs": [],
   "source": [
    "unfair_analysis = Analyzer(unfair_results)"
   ]
  },
  {
   "cell_type": "code",
   "execution_count": 32,
   "id": "01d13b77-d592-4c4f-8b0b-bf0d3aaea400",
   "metadata": {},
   "outputs": [
    {
     "name": "stdout",
     "output_type": "stream",
     "text": [
      "6\n"
     ]
    }
   ],
   "source": [
    "unfair_jackpots = unfair_analysis.comp_jackpot()\n",
    "print(unfair_jackpots)"
   ]
  },
  {
   "cell_type": "code",
   "execution_count": 62,
   "id": "a9625206-b781-4654-940a-796a07236d08",
   "metadata": {},
   "outputs": [
    {
     "data": {
      "text/html": [
       "<div>\n",
       "<style scoped>\n",
       "    .dataframe tbody tr th:only-of-type {\n",
       "        vertical-align: middle;\n",
       "    }\n",
       "\n",
       "    .dataframe tbody tr th {\n",
       "        vertical-align: top;\n",
       "    }\n",
       "\n",
       "    .dataframe thead th {\n",
       "        text-align: right;\n",
       "    }\n",
       "</style>\n",
       "<table border=\"1\" class=\"dataframe\">\n",
       "  <thead>\n",
       "    <tr style=\"text-align: right;\">\n",
       "      <th></th>\n",
       "      <th>0</th>\n",
       "      <th>1</th>\n",
       "      <th>2</th>\n",
       "      <th>3</th>\n",
       "      <th>4</th>\n",
       "    </tr>\n",
       "    <tr>\n",
       "      <th>roll_number</th>\n",
       "      <th></th>\n",
       "      <th></th>\n",
       "      <th></th>\n",
       "      <th></th>\n",
       "      <th></th>\n",
       "    </tr>\n",
       "  </thead>\n",
       "  <tbody>\n",
       "    <tr>\n",
       "      <th>2913</th>\n",
       "      <td>2.0</td>\n",
       "      <td>2.0</td>\n",
       "      <td>2.0</td>\n",
       "      <td>2.0</td>\n",
       "      <td>2.0</td>\n",
       "    </tr>\n",
       "    <tr>\n",
       "      <th>3131</th>\n",
       "      <td>6.0</td>\n",
       "      <td>6.0</td>\n",
       "      <td>6.0</td>\n",
       "      <td>6.0</td>\n",
       "      <td>6.0</td>\n",
       "    </tr>\n",
       "    <tr>\n",
       "      <th>5535</th>\n",
       "      <td>6.0</td>\n",
       "      <td>6.0</td>\n",
       "      <td>6.0</td>\n",
       "      <td>6.0</td>\n",
       "      <td>6.0</td>\n",
       "    </tr>\n",
       "    <tr>\n",
       "      <th>7566</th>\n",
       "      <td>6.0</td>\n",
       "      <td>6.0</td>\n",
       "      <td>6.0</td>\n",
       "      <td>6.0</td>\n",
       "      <td>6.0</td>\n",
       "    </tr>\n",
       "    <tr>\n",
       "      <th>7571</th>\n",
       "      <td>6.0</td>\n",
       "      <td>6.0</td>\n",
       "      <td>6.0</td>\n",
       "      <td>6.0</td>\n",
       "      <td>6.0</td>\n",
       "    </tr>\n",
       "    <tr>\n",
       "      <th>8784</th>\n",
       "      <td>6.0</td>\n",
       "      <td>6.0</td>\n",
       "      <td>6.0</td>\n",
       "      <td>6.0</td>\n",
       "      <td>6.0</td>\n",
       "    </tr>\n",
       "  </tbody>\n",
       "</table>\n",
       "</div>"
      ],
      "text/plain": [
       "               0    1    2    3    4\n",
       "roll_number                         \n",
       "2913         2.0  2.0  2.0  2.0  2.0\n",
       "3131         6.0  6.0  6.0  6.0  6.0\n",
       "5535         6.0  6.0  6.0  6.0  6.0\n",
       "7566         6.0  6.0  6.0  6.0  6.0\n",
       "7571         6.0  6.0  6.0  6.0  6.0\n",
       "8784         6.0  6.0  6.0  6.0  6.0"
      ]
     },
     "execution_count": 62,
     "metadata": {},
     "output_type": "execute_result"
    }
   ],
   "source": [
    "unfair_analysis.jackpot_df"
   ]
  },
  {
   "cell_type": "markdown",
   "id": "8aa9b45a-14f8-4c39-8dbe-5d1dbb41f597",
   "metadata": {},
   "source": [
    "We see the unfair game jackpots above!"
   ]
  },
  {
   "cell_type": "markdown",
   "id": "1430f75e-4077-4b79-b967-a701ef886cda",
   "metadata": {},
   "source": [
    "Now we are going to plot these two frequencies against each other in a simple bar chart."
   ]
  },
  {
   "cell_type": "code",
   "execution_count": 33,
   "id": "bc025945-e4da-4d64-b660-e0a5b2a7e098",
   "metadata": {},
   "outputs": [],
   "source": [
    "fair_jackpot_freq = fair_jackpots / 10000\n",
    "unfair_jackpot_freq = unfair_jackpots / 10000"
   ]
  },
  {
   "cell_type": "code",
   "execution_count": 34,
   "id": "8ea70a34-86ad-4d97-8e4a-3ce8954cab1a",
   "metadata": {},
   "outputs": [],
   "source": [
    "xaxis = ['Fair Game', 'Unfair Game']\n",
    "yaxis = [fair_jackpot_freq, unfair_jackpot_freq]\n",
    "title = 'Frequency of Jackpots within a Game'"
   ]
  },
  {
   "cell_type": "code",
   "execution_count": 35,
   "id": "6dbd965b-c664-4a74-b5db-ca8564e89c1a",
   "metadata": {},
   "outputs": [
    {
     "data": {
      "image/png": "[encoded data removed]",
      "text/plain": [
       "<Figure size 432x288 with 1 Axes>"
      ]
     },
     "metadata": {
      "needs_background": "light"
     },
     "output_type": "display_data"
    }
   ],
   "source": [
    "plt.bar(xaxis, yaxis);\n",
    "plt.title(title)\n",
    "plt.show()"
   ]
  },
  {
   "cell_type": "markdown",
   "id": "55d279f1-0c26-4366-aa7f-de77828b45d5",
   "metadata": {},
   "source": [
    "You can visualize the frequencies of jackpots for each game above."
   ]
  },
  {
   "cell_type": "markdown",
   "id": "b828e71d-aace-446c-9aaf-18a69cf24d3b",
   "metadata": {},
   "source": [
    "### Also compute 10 most frequent combinations of faces for each game. Plot each of these as bar charts."
   ]
  },
  {
   "cell_type": "markdown",
   "id": "3a639935-f8e0-47d2-9170-69c526690300",
   "metadata": {},
   "source": [
    "We will start by looking at most frequent combinations in the fair game."
   ]
  },
  {
   "cell_type": "code",
   "execution_count": 36,
   "id": "1c064b11-ee1d-4200-9d00-43570ec9ac52",
   "metadata": {},
   "outputs": [],
   "source": [
    "fair_analysis.comp_combo()"
   ]
  },
  {
   "cell_type": "code",
   "execution_count": 37,
   "id": "d490b713-a635-4b47-b740-a3ab22ae474f",
   "metadata": {},
   "outputs": [],
   "source": [
    "fair_df = fair_analysis.combo_df\n",
    "n_top10_fair_combos = pd.DataFrame(fair_df['n'].nlargest(n=10))"
   ]
  },
  {
   "cell_type": "code",
   "execution_count": 38,
   "id": "b0b60052-80b2-4468-8dc7-160b430b3dd0",
   "metadata": {},
   "outputs": [],
   "source": [
    "top10_fair_combos = n_top10_fair_combos.index.tolist()"
   ]
  },
  {
   "cell_type": "code",
   "execution_count": 39,
   "id": "3e21a32c-760f-499c-a3d1-e4cb3df7baf7",
   "metadata": {},
   "outputs": [
    {
     "data": {
      "text/plain": [
       "[(1, 2, 3, 4, 5),\n",
       " (1, 2, 3, 4, 6),\n",
       " (2, 3, 4, 5, 6),\n",
       " (1, 2, 3, 5, 6),\n",
       " (1, 2, 4, 5, 6),\n",
       " (1, 3, 4, 5, 6),\n",
       " (1, 1, 2, 4, 5),\n",
       " (1, 2, 5, 5, 6),\n",
       " (2, 4, 5, 5, 6),\n",
       " (1, 1, 2, 3, 4)]"
      ]
     },
     "execution_count": 39,
     "metadata": {},
     "output_type": "execute_result"
    }
   ],
   "source": [
    "top10_fair_combos # a list of tuples"
   ]
  },
  {
   "cell_type": "markdown",
   "id": "4af92f10-2a82-45af-a8fd-c77c127d5398",
   "metadata": {},
   "source": [
    "These are the 10 most frequent combinations in the fair game."
   ]
  },
  {
   "cell_type": "code",
   "execution_count": 40,
   "id": "64d52092-20da-4732-a600-abf6201ab306",
   "metadata": {},
   "outputs": [],
   "source": [
    "freq_lst = []\n",
    "for val in n_top10_fair_combos['n']:\n",
    "    freq_lst.append(val)\n",
    " # a list of the frequencies"
   ]
  },
  {
   "cell_type": "code",
   "execution_count": 41,
   "id": "8d3a2862-7b85-4d97-9784-b71cba7a34e4",
   "metadata": {},
   "outputs": [],
   "source": [
    "dec_freq = []\n",
    "for val in freq_lst:\n",
    "    dec_freq.append(val / 10000)"
   ]
  },
  {
   "cell_type": "code",
   "execution_count": 42,
   "id": "189ebe9c-2f8e-4f26-afdb-2ac675503e27",
   "metadata": {},
   "outputs": [],
   "source": [
    "title = 'Fair Game: Top 10 Most Frequent Combinations'"
   ]
  },
  {
   "cell_type": "code",
   "execution_count": 43,
   "id": "b7e02a91-474a-4a2e-a77f-ba522964b102",
   "metadata": {},
   "outputs": [
    {
     "data": {
      "image/png": "[encoded data removed]",
      "text/plain": [
       "<Figure size 432x288 with 1 Axes>"
      ]
     },
     "metadata": {
      "needs_background": "light"
     },
     "output_type": "display_data"
    }
   ],
   "source": [
    "for i in zip(range(len(top10_fair_combos))):\n",
    "    plt.bar(i, dec_freq[i[0]]);\n",
    "plt.xticks((0, 1, 2, 3, 4, 5, 6, 7, 8, 9),\\\n",
    "           top10_fair_combos, rotation = 'vertical');\n",
    "plt.title(title);\n",
    "plt.show()"
   ]
  },
  {
   "cell_type": "markdown",
   "id": "6ffaf505-1642-4b4a-bf38-a1d0e5eb356b",
   "metadata": {},
   "source": [
    "In the graph above, you can see how frequently each of the top 10 most frequent combinations appears in the fair game. "
   ]
  },
  {
   "cell_type": "markdown",
   "id": "f7389a12-6dd2-47cf-8d9d-fccae052417f",
   "metadata": {},
   "source": [
    "Now, we will move onto evaluating the top 10 most frequent combinations in the unfair game."
   ]
  },
  {
   "cell_type": "code",
   "execution_count": 44,
   "id": "7fa7ec74-7fc7-4721-8b26-e82bafd00929",
   "metadata": {},
   "outputs": [],
   "source": [
    "unfair_analysis.comp_combo()"
   ]
  },
  {
   "cell_type": "code",
   "execution_count": 45,
   "id": "b13fcd3e-54f0-4f96-ac64-c0aaeb52e869",
   "metadata": {},
   "outputs": [],
   "source": [
    "unfair_df = unfair_analysis.combo_df\n",
    "n_top10_unfair_combos = pd.DataFrame(unfair_df['n'].nlargest(n=10))"
   ]
  },
  {
   "cell_type": "code",
   "execution_count": 46,
   "id": "717ac966-9b2b-46da-945c-97051af056c5",
   "metadata": {},
   "outputs": [],
   "source": [
    "top10_unfair_combos = n_top10_unfair_combos.index.tolist()"
   ]
  },
  {
   "cell_type": "code",
   "execution_count": 47,
   "id": "a5d0c461-c580-496c-859c-68dbfad0449b",
   "metadata": {},
   "outputs": [
    {
     "data": {
      "text/plain": [
       "[(1, 2, 5, 6, 6),\n",
       " (1, 4, 5, 6, 6),\n",
       " (1, 2, 4, 6, 6),\n",
       " (1, 3, 5, 6, 6),\n",
       " (1, 2, 3, 6, 6),\n",
       " (1, 3, 4, 6, 6),\n",
       " (1, 3, 4, 5, 6),\n",
       " (1, 2, 3, 5, 6),\n",
       " (1, 1, 5, 6, 6),\n",
       " (1, 2, 3, 4, 6)]"
      ]
     },
     "execution_count": 47,
     "metadata": {},
     "output_type": "execute_result"
    }
   ],
   "source": [
    "top10_unfair_combos # a list of tuples"
   ]
  },
  {
   "cell_type": "code",
   "execution_count": 48,
   "id": "0246fd6d-3a5d-42b1-9e1d-b15d20a43f59",
   "metadata": {},
   "outputs": [],
   "source": [
    "freq_lst = []\n",
    "for val in n_top10_unfair_combos['n']:\n",
    "    freq_lst.append(val)\n",
    " # a list of the frequencies"
   ]
  },
  {
   "cell_type": "code",
   "execution_count": 49,
   "id": "60193d5e-0eb2-4943-bcb3-6bbc6acd7c91",
   "metadata": {},
   "outputs": [],
   "source": [
    "dec_freq = []\n",
    "for val in freq_lst:\n",
    "    dec_freq.append(val / 10000)"
   ]
  },
  {
   "cell_type": "code",
   "execution_count": 50,
   "id": "946e7f4f-e9c8-4266-9141-e27b3c10db89",
   "metadata": {},
   "outputs": [],
   "source": [
    "title = 'Unfair Game: Top 10 Most Frequent Combinations'"
   ]
  },
  {
   "cell_type": "code",
   "execution_count": 51,
   "id": "f621033f-998b-45f2-a01b-d7434cc0f605",
   "metadata": {},
   "outputs": [
    {
     "data": {
      "image/png": "[encoded data removed]",
      "text/plain": [
       "<Figure size 432x288 with 1 Axes>"
      ]
     },
     "metadata": {
      "needs_background": "light"
     },
     "output_type": "display_data"
    }
   ],
   "source": [
    "for i in zip(range(len(top10_fair_combos))):\n",
    "    plt.bar(i, dec_freq[i[0]]);\n",
    "\n",
    "plt.xticks((0, 1, 2, 3, 4, 5, 6, 7, 8, 9),\\\n",
    "           top10_unfair_combos, rotation = 'vertical');\n",
    "plt.title(title);\n",
    "plt.show()"
   ]
  },
  {
   "cell_type": "markdown",
   "id": "a1680dc3-5d63-401e-b773-b7f97fbf2bc9",
   "metadata": {},
   "source": [
    "In the graph above, you can see how frequently each of the top 10 most frequent combinations appears in the unfair game. "
   ]
  },
  {
   "cell_type": "markdown",
   "id": "0639946b-b7c1-482f-a223-bf4e6603647a",
   "metadata": {},
   "source": [
    "# Scenario 3: Letters of the Roman Alphabet"
   ]
  },
  {
   "cell_type": "markdown",
   "id": "0ba4fb2f-72c4-4d80-9891-d4c593ec1489",
   "metadata": {},
   "source": [
    "### Create a \"die\" of letters from a to z with weights based on their frequency of usage. See Appendix for these weights."
   ]
  },
  {
   "cell_type": "code",
   "execution_count": 52,
   "id": "bb5e5e35-a18f-40ae-8f6c-de4c17fa4da0",
   "metadata": {},
   "outputs": [],
   "source": [
    "arr = np.array(['a', 'b', 'c', 'd', 'e', 'f',\\\n",
    "                'g', 'h', 'i', 'j', 'k', 'l',\\\n",
    "                'm', 'n', 'o', 'p', 'q', 'r',\\\n",
    "               's', 't', 'u', 'v', 'w', 'x',\\\n",
    "                'y', 'z'])\n",
    "die = Die(arr)"
   ]
  },
  {
   "cell_type": "code",
   "execution_count": 53,
   "id": "7b4b4ad9-4493-41f6-a7b3-6afea404a3b4",
   "metadata": {},
   "outputs": [],
   "source": [
    "die.change_weight('a', 8.4966)\n",
    "die.change_weight('b', 2.0720)\n",
    "die.change_weight('c', 4.5388)\n",
    "die.change_weight('d', 3.3844)\n",
    "die.change_weight('e', 11.1607)\n",
    "die.change_weight('f', 1.8121)\n",
    "die.change_weight('g', 2.4705)\n",
    "die.change_weight('h', 3.0034)\n",
    "die.change_weight('i', 7.5448)\n",
    "die.change_weight('j', 0.1965)\n",
    "die.change_weight('k', 1.1016)\n",
    "die.change_weight('l', 5.4893)\n",
    "die.change_weight('m', 3.0129)\n",
    "die.change_weight('n', 6.6544)\n",
    "die.change_weight('o', 7.1635)\n",
    "die.change_weight('p', 3.1671)\n",
    "die.change_weight('q', 0.1962)\n",
    "die.change_weight('r', 7.5809)\n",
    "die.change_weight('s', 5.7351)\n",
    "die.change_weight('t', 6.9509)\n",
    "die.change_weight('u', 3.6308)\n",
    "die.change_weight('v', 1.0074)\n",
    "die.change_weight('w', 1.2899)\n",
    "die.change_weight('x', 0.2902)\n",
    "die.change_weight('y', 1.7779)\n",
    "die.change_weight('z', 0.2722)"
   ]
  },
  {
   "cell_type": "code",
   "execution_count": 54,
   "id": "f010de69-a517-4be6-a57b-15ab08113453",
   "metadata": {},
   "outputs": [
    {
     "data": {
      "text/html": [
       "<div>\n",
       "<style scoped>\n",
       "    .dataframe tbody tr th:only-of-type {\n",
       "        vertical-align: middle;\n",
       "    }\n",
       "\n",
       "    .dataframe tbody tr th {\n",
       "        vertical-align: top;\n",
       "    }\n",
       "\n",
       "    .dataframe thead th {\n",
       "        text-align: right;\n",
       "    }\n",
       "</style>\n",
       "<table border=\"1\" class=\"dataframe\">\n",
       "  <thead>\n",
       "    <tr style=\"text-align: right;\">\n",
       "      <th></th>\n",
       "      <th>weight</th>\n",
       "    </tr>\n",
       "    <tr>\n",
       "      <th>side</th>\n",
       "      <th></th>\n",
       "    </tr>\n",
       "  </thead>\n",
       "  <tbody>\n",
       "    <tr>\n",
       "      <th>a</th>\n",
       "      <td>8.4966</td>\n",
       "    </tr>\n",
       "    <tr>\n",
       "      <th>b</th>\n",
       "      <td>2.0720</td>\n",
       "    </tr>\n",
       "    <tr>\n",
       "      <th>c</th>\n",
       "      <td>4.5388</td>\n",
       "    </tr>\n",
       "    <tr>\n",
       "      <th>d</th>\n",
       "      <td>3.3844</td>\n",
       "    </tr>\n",
       "    <tr>\n",
       "      <th>e</th>\n",
       "      <td>11.1607</td>\n",
       "    </tr>\n",
       "    <tr>\n",
       "      <th>f</th>\n",
       "      <td>1.8121</td>\n",
       "    </tr>\n",
       "    <tr>\n",
       "      <th>g</th>\n",
       "      <td>2.4705</td>\n",
       "    </tr>\n",
       "    <tr>\n",
       "      <th>h</th>\n",
       "      <td>3.0034</td>\n",
       "    </tr>\n",
       "    <tr>\n",
       "      <th>i</th>\n",
       "      <td>7.5448</td>\n",
       "    </tr>\n",
       "    <tr>\n",
       "      <th>j</th>\n",
       "      <td>0.1965</td>\n",
       "    </tr>\n",
       "    <tr>\n",
       "      <th>k</th>\n",
       "      <td>1.1016</td>\n",
       "    </tr>\n",
       "    <tr>\n",
       "      <th>l</th>\n",
       "      <td>5.4893</td>\n",
       "    </tr>\n",
       "    <tr>\n",
       "      <th>m</th>\n",
       "      <td>3.0129</td>\n",
       "    </tr>\n",
       "    <tr>\n",
       "      <th>n</th>\n",
       "      <td>6.6544</td>\n",
       "    </tr>\n",
       "    <tr>\n",
       "      <th>o</th>\n",
       "      <td>7.1635</td>\n",
       "    </tr>\n",
       "    <tr>\n",
       "      <th>p</th>\n",
       "      <td>3.1671</td>\n",
       "    </tr>\n",
       "    <tr>\n",
       "      <th>q</th>\n",
       "      <td>0.1962</td>\n",
       "    </tr>\n",
       "    <tr>\n",
       "      <th>r</th>\n",
       "      <td>7.5809</td>\n",
       "    </tr>\n",
       "    <tr>\n",
       "      <th>s</th>\n",
       "      <td>5.7351</td>\n",
       "    </tr>\n",
       "    <tr>\n",
       "      <th>t</th>\n",
       "      <td>6.9509</td>\n",
       "    </tr>\n",
       "    <tr>\n",
       "      <th>u</th>\n",
       "      <td>3.6308</td>\n",
       "    </tr>\n",
       "    <tr>\n",
       "      <th>v</th>\n",
       "      <td>1.0074</td>\n",
       "    </tr>\n",
       "    <tr>\n",
       "      <th>w</th>\n",
       "      <td>1.2899</td>\n",
       "    </tr>\n",
       "    <tr>\n",
       "      <th>x</th>\n",
       "      <td>0.2902</td>\n",
       "    </tr>\n",
       "    <tr>\n",
       "      <th>y</th>\n",
       "      <td>1.7779</td>\n",
       "    </tr>\n",
       "    <tr>\n",
       "      <th>z</th>\n",
       "      <td>0.2722</td>\n",
       "    </tr>\n",
       "  </tbody>\n",
       "</table>\n",
       "</div>"
      ],
      "text/plain": [
       "       weight\n",
       "side         \n",
       "a      8.4966\n",
       "b      2.0720\n",
       "c      4.5388\n",
       "d      3.3844\n",
       "e     11.1607\n",
       "f      1.8121\n",
       "g      2.4705\n",
       "h      3.0034\n",
       "i      7.5448\n",
       "j      0.1965\n",
       "k      1.1016\n",
       "l      5.4893\n",
       "m      3.0129\n",
       "n      6.6544\n",
       "o      7.1635\n",
       "p      3.1671\n",
       "q      0.1962\n",
       "r      7.5809\n",
       "s      5.7351\n",
       "t      6.9509\n",
       "u      3.6308\n",
       "v      1.0074\n",
       "w      1.2899\n",
       "x      0.2902\n",
       "y      1.7779\n",
       "z      0.2722"
      ]
     },
     "execution_count": 54,
     "metadata": {},
     "output_type": "execute_result"
    }
   ],
   "source": [
    "die.show_die() # here you can see that all weights have been changed"
   ]
  },
  {
   "cell_type": "markdown",
   "id": "df638b41-d5db-421c-858d-60b0df71e74d",
   "metadata": {},
   "source": [
    "### Play a game involving 5 of these dice with 1000 rolls."
   ]
  },
  {
   "cell_type": "code",
   "execution_count": 55,
   "id": "4fd3bd8d-0d4c-4836-9025-bc1727955d99",
   "metadata": {},
   "outputs": [],
   "source": [
    "dice = [die, die, die, die, die]\n",
    "game = Game(dice)"
   ]
  },
  {
   "cell_type": "code",
   "execution_count": 56,
   "id": "c9597a18-0230-42f0-9875-23e798707a24",
   "metadata": {},
   "outputs": [],
   "source": [
    "game.play(1000)"
   ]
  },
  {
   "cell_type": "code",
   "execution_count": 57,
   "id": "9cca0963-1ff1-4e8a-a89b-f6520f0148bc",
   "metadata": {},
   "outputs": [],
   "source": [
    "#with pd.option_context('display.max_rows', None,\n",
    "#                       'display.max_columns', None,\n",
    "#                       'display.precision', 3,\n",
    "#                       ):\n",
    "#    print(game.show_results())"
   ]
  },
  {
   "cell_type": "markdown",
   "id": "94758e07-00de-4395-a943-4fa158affae1",
   "metadata": {},
   "source": [
    "The code block above can be uncommented to view the entire dataset. For the purpose of this scenario, we will only view the first 10 and last 10 combinations."
   ]
  },
  {
   "cell_type": "code",
   "execution_count": 58,
   "id": "e4d93c06-15e3-44fa-b7de-65b9638ab2c5",
   "metadata": {},
   "outputs": [
    {
     "data": {
      "text/html": [
       "<div>\n",
       "<style scoped>\n",
       "    .dataframe tbody tr th:only-of-type {\n",
       "        vertical-align: middle;\n",
       "    }\n",
       "\n",
       "    .dataframe tbody tr th {\n",
       "        vertical-align: top;\n",
       "    }\n",
       "\n",
       "    .dataframe thead th {\n",
       "        text-align: right;\n",
       "    }\n",
       "</style>\n",
       "<table border=\"1\" class=\"dataframe\">\n",
       "  <thead>\n",
       "    <tr style=\"text-align: right;\">\n",
       "      <th>die_number</th>\n",
       "      <th>0</th>\n",
       "      <th>1</th>\n",
       "      <th>2</th>\n",
       "      <th>3</th>\n",
       "      <th>4</th>\n",
       "    </tr>\n",
       "    <tr>\n",
       "      <th>roll_number</th>\n",
       "      <th></th>\n",
       "      <th></th>\n",
       "      <th></th>\n",
       "      <th></th>\n",
       "      <th></th>\n",
       "    </tr>\n",
       "  </thead>\n",
       "  <tbody>\n",
       "    <tr>\n",
       "      <th>0</th>\n",
       "      <td>e</td>\n",
       "      <td>a</td>\n",
       "      <td>a</td>\n",
       "      <td>n</td>\n",
       "      <td>n</td>\n",
       "    </tr>\n",
       "    <tr>\n",
       "      <th>1</th>\n",
       "      <td>r</td>\n",
       "      <td>c</td>\n",
       "      <td>e</td>\n",
       "      <td>n</td>\n",
       "      <td>s</td>\n",
       "    </tr>\n",
       "    <tr>\n",
       "      <th>2</th>\n",
       "      <td>e</td>\n",
       "      <td>a</td>\n",
       "      <td>m</td>\n",
       "      <td>i</td>\n",
       "      <td>e</td>\n",
       "    </tr>\n",
       "    <tr>\n",
       "      <th>3</th>\n",
       "      <td>t</td>\n",
       "      <td>o</td>\n",
       "      <td>l</td>\n",
       "      <td>g</td>\n",
       "      <td>a</td>\n",
       "    </tr>\n",
       "    <tr>\n",
       "      <th>4</th>\n",
       "      <td>r</td>\n",
       "      <td>k</td>\n",
       "      <td>v</td>\n",
       "      <td>a</td>\n",
       "      <td>e</td>\n",
       "    </tr>\n",
       "    <tr>\n",
       "      <th>5</th>\n",
       "      <td>r</td>\n",
       "      <td>c</td>\n",
       "      <td>t</td>\n",
       "      <td>h</td>\n",
       "      <td>a</td>\n",
       "    </tr>\n",
       "    <tr>\n",
       "      <th>6</th>\n",
       "      <td>b</td>\n",
       "      <td>a</td>\n",
       "      <td>p</td>\n",
       "      <td>f</td>\n",
       "      <td>e</td>\n",
       "    </tr>\n",
       "    <tr>\n",
       "      <th>7</th>\n",
       "      <td>l</td>\n",
       "      <td>v</td>\n",
       "      <td>t</td>\n",
       "      <td>b</td>\n",
       "      <td>a</td>\n",
       "    </tr>\n",
       "    <tr>\n",
       "      <th>8</th>\n",
       "      <td>t</td>\n",
       "      <td>a</td>\n",
       "      <td>r</td>\n",
       "      <td>l</td>\n",
       "      <td>r</td>\n",
       "    </tr>\n",
       "    <tr>\n",
       "      <th>9</th>\n",
       "      <td>s</td>\n",
       "      <td>o</td>\n",
       "      <td>s</td>\n",
       "      <td>g</td>\n",
       "      <td>a</td>\n",
       "    </tr>\n",
       "  </tbody>\n",
       "</table>\n",
       "</div>"
      ],
      "text/plain": [
       "die_number   0  1  2  3  4\n",
       "roll_number               \n",
       "0            e  a  a  n  n\n",
       "1            r  c  e  n  s\n",
       "2            e  a  m  i  e\n",
       "3            t  o  l  g  a\n",
       "4            r  k  v  a  e\n",
       "5            r  c  t  h  a\n",
       "6            b  a  p  f  e\n",
       "7            l  v  t  b  a\n",
       "8            t  a  r  l  r\n",
       "9            s  o  s  g  a"
      ]
     },
     "execution_count": 58,
     "metadata": {},
     "output_type": "execute_result"
    }
   ],
   "source": [
    "game.show_results().head(10)"
   ]
  },
  {
   "cell_type": "code",
   "execution_count": 59,
   "id": "f2d3e657-d350-4b74-976c-e05306fae6e4",
   "metadata": {},
   "outputs": [
    {
     "data": {
      "text/html": [
       "<div>\n",
       "<style scoped>\n",
       "    .dataframe tbody tr th:only-of-type {\n",
       "        vertical-align: middle;\n",
       "    }\n",
       "\n",
       "    .dataframe tbody tr th {\n",
       "        vertical-align: top;\n",
       "    }\n",
       "\n",
       "    .dataframe thead th {\n",
       "        text-align: right;\n",
       "    }\n",
       "</style>\n",
       "<table border=\"1\" class=\"dataframe\">\n",
       "  <thead>\n",
       "    <tr style=\"text-align: right;\">\n",
       "      <th>die_number</th>\n",
       "      <th>0</th>\n",
       "      <th>1</th>\n",
       "      <th>2</th>\n",
       "      <th>3</th>\n",
       "      <th>4</th>\n",
       "    </tr>\n",
       "    <tr>\n",
       "      <th>roll_number</th>\n",
       "      <th></th>\n",
       "      <th></th>\n",
       "      <th></th>\n",
       "      <th></th>\n",
       "      <th></th>\n",
       "    </tr>\n",
       "  </thead>\n",
       "  <tbody>\n",
       "    <tr>\n",
       "      <th>990</th>\n",
       "      <td>l</td>\n",
       "      <td>t</td>\n",
       "      <td>r</td>\n",
       "      <td>r</td>\n",
       "      <td>n</td>\n",
       "    </tr>\n",
       "    <tr>\n",
       "      <th>991</th>\n",
       "      <td>i</td>\n",
       "      <td>s</td>\n",
       "      <td>e</td>\n",
       "      <td>u</td>\n",
       "      <td>s</td>\n",
       "    </tr>\n",
       "    <tr>\n",
       "      <th>992</th>\n",
       "      <td>m</td>\n",
       "      <td>c</td>\n",
       "      <td>r</td>\n",
       "      <td>a</td>\n",
       "      <td>o</td>\n",
       "    </tr>\n",
       "    <tr>\n",
       "      <th>993</th>\n",
       "      <td>p</td>\n",
       "      <td>y</td>\n",
       "      <td>o</td>\n",
       "      <td>l</td>\n",
       "      <td>a</td>\n",
       "    </tr>\n",
       "    <tr>\n",
       "      <th>994</th>\n",
       "      <td>s</td>\n",
       "      <td>l</td>\n",
       "      <td>s</td>\n",
       "      <td>e</td>\n",
       "      <td>i</td>\n",
       "    </tr>\n",
       "    <tr>\n",
       "      <th>995</th>\n",
       "      <td>r</td>\n",
       "      <td>k</td>\n",
       "      <td>s</td>\n",
       "      <td>h</td>\n",
       "      <td>o</td>\n",
       "    </tr>\n",
       "    <tr>\n",
       "      <th>996</th>\n",
       "      <td>c</td>\n",
       "      <td>a</td>\n",
       "      <td>t</td>\n",
       "      <td>g</td>\n",
       "      <td>f</td>\n",
       "    </tr>\n",
       "    <tr>\n",
       "      <th>997</th>\n",
       "      <td>e</td>\n",
       "      <td>m</td>\n",
       "      <td>s</td>\n",
       "      <td>o</td>\n",
       "      <td>p</td>\n",
       "    </tr>\n",
       "    <tr>\n",
       "      <th>998</th>\n",
       "      <td>o</td>\n",
       "      <td>k</td>\n",
       "      <td>u</td>\n",
       "      <td>p</td>\n",
       "      <td>n</td>\n",
       "    </tr>\n",
       "    <tr>\n",
       "      <th>999</th>\n",
       "      <td>c</td>\n",
       "      <td>m</td>\n",
       "      <td>o</td>\n",
       "      <td>d</td>\n",
       "      <td>a</td>\n",
       "    </tr>\n",
       "  </tbody>\n",
       "</table>\n",
       "</div>"
      ],
      "text/plain": [
       "die_number   0  1  2  3  4\n",
       "roll_number               \n",
       "990          l  t  r  r  n\n",
       "991          i  s  e  u  s\n",
       "992          m  c  r  a  o\n",
       "993          p  y  o  l  a\n",
       "994          s  l  s  e  i\n",
       "995          r  k  s  h  o\n",
       "996          c  a  t  g  f\n",
       "997          e  m  s  o  p\n",
       "998          o  k  u  p  n\n",
       "999          c  m  o  d  a"
      ]
     },
     "execution_count": 59,
     "metadata": {},
     "output_type": "execute_result"
    }
   ],
   "source": [
    "game.show_results().tail(10)"
   ]
  },
  {
   "cell_type": "markdown",
   "id": "92c397bf-6836-4e2c-9301-1b4b9ff8988c",
   "metadata": {},
   "source": [
    "After viewing the dataset, it appears that there are about 5 five-letter words made from the dice face combinations."
   ]
  },
  {
   "cell_type": "markdown",
   "id": "90dcec4d-1c53-4dbb-9111-c450913e7db2",
   "metadata": {},
   "source": [
    "### Based on your eye count, what is the relative frequency of these words versus the rest?"
   ]
  },
  {
   "cell_type": "markdown",
   "id": "84ff8d2b-a735-4be9-8755-35f754bdc806",
   "metadata": {},
   "source": [
    "It appears that words are not incredibly frequent in the dataframe. Based on an estimation of 5 words, the frequency of full words would be low."
   ]
  },
  {
   "cell_type": "code",
   "execution_count": 60,
   "id": "26ae958e-e85e-42e9-8bc1-93d041fd7c4d",
   "metadata": {},
   "outputs": [],
   "source": [
    "word_freq = 5/1000"
   ]
  },
  {
   "cell_type": "code",
   "execution_count": 61,
   "id": "e34825c5-4698-444b-9384-ca0f6816b5d9",
   "metadata": {},
   "outputs": [
    {
     "name": "stdout",
     "output_type": "stream",
     "text": [
      "0.005\n"
     ]
    }
   ],
   "source": [
    "print(word_freq)"
   ]
  },
  {
   "cell_type": "markdown",
   "id": "a89c8254-62dc-4036-b563-d4377abac1d1",
   "metadata": {},
   "source": [
    "The frequency of word appearance is approximately 0.005."
   ]
  }
 ],
 "metadata": {
  "kernelspec": {
   "display_name": "Python 3 (ipykernel)",
   "language": "python",
   "name": "python3"
  },
  "language_info": {
   "codemirror_mode": {
    "name": "ipython",
    "version": 3
   },
   "file_extension": ".py",
   "mimetype": "text/x-python",
   "name": "python",
   "nbconvert_exporter": "python",
   "pygments_lexer": "ipython3",
   "version": "3.7.6"
  }
 },
 "nbformat": 4,
 "nbformat_minor": 5
}
