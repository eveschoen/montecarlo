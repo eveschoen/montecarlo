{
 "cells": [
  {
   "cell_type": "markdown",
   "id": "45762487-d33f-486d-8e38-2cdea04e3528",
   "metadata": {},
   "source": [
    "# Metadata\n",
    "\n",
    "* Title: **Final Project Report**\n",
    "* Class: DS 5100\n",
    "* Date: 13 July 2022\n",
    "* Student Name: Eve Schoenrock\n",
    "* Student Net ID: ufu2rg\n",
    "* This URL: https://github.com/eveschoen/montecarlo/blob/main/final-project-submission.ipynb\n",
    "* GitHub Repo URL: https://github.com/eveschoen/montecarlo"
   ]
  },
  {
   "cell_type": "markdown",
   "id": "d32cb273-9a40-4909-a7ce-51f6e4958d3c",
   "metadata": {},
   "source": [
    "# The Monte Carlo Module"
   ]
  },
  {
   "cell_type": "code",
   "execution_count": 1,
   "id": "790853a0-437d-457c-8e5d-fc1ca5f2906d",
   "metadata": {},
   "outputs": [],
   "source": [
    "import numpy as np\n",
    "import pandas as pd"
   ]
  },
  {
   "cell_type": "code",
   "execution_count": 2,
   "id": "a0743efc-a785-4b5c-a9e6-b65d4507a67f",
   "metadata": {},
   "outputs": [],
   "source": [
    "class Die:\n",
    "    \"\"\"\n",
    "    PURPOSE: This class creates a die of any number of sides, with default weights of 1. Methods that can be applied to the die include changing the weight (change_weight), rolling the die (roll_die), and showing the die (show_die).\n",
    "    \n",
    "    INPUT:\n",
    "    arr   array of die faces\n",
    "    \n",
    "    OUTPUT: \n",
    "    depends on the method applied\n",
    "    \"\"\"\n",
    "    __diedf = 0\n",
    "    \n",
    "    def __init__(self, arr):\n",
    "        \"\"\"\n",
    "        PURPOSE: Initializes the new die object and saves faces and weights to a private dataframe that is shared by other methods of this class.\n",
    "        \n",
    "        INPUT:\n",
    "        arr   array of die faces\n",
    "        \n",
    "        OUTPUT:\n",
    "        none\n",
    "        \"\"\"\n",
    "        self.n = arr.tolist()\n",
    "        self.weights = np.ones(len(self.n))\n",
    "        self.__diedf = pd.DataFrame({'side':self.n,\\\n",
    "                                   'weight':self.weights})\n",
    "        self.__diedf = self.__diedf.set_index('side')\n",
    "    \n",
    "    def change_weight(self, face_val, new_weight):\n",
    "        \"\"\"\n",
    "        PURPOSE: Change the weight of a single side of the die.\n",
    "        \n",
    "        INPUTS:\n",
    "        face_val    the face value to be changed (str/float/int)\n",
    "        new_weight  the desired weight of specified die (float/int)\n",
    "        \n",
    "        OUTPUT:\n",
    "        none\n",
    "        print statements if incorrect inputs are provided\n",
    "        \"\"\"\n",
    "        if face_val in self.n:\n",
    "            \n",
    "            if type(new_weight) == float:\n",
    "                self.__diedf.loc[face_val, 'weight'] = new_weight\n",
    "            elif type(new_weight) == int:\n",
    "                new_weight = float(new_weight)\n",
    "                self.__diedf.loc[face_val, 'weight'] = new_weight\n",
    "            else:\n",
    "                print('The new weight is not the correct data type - please input a float or an integer')\n",
    "                \n",
    "        else:\n",
    "            print('This face value is not valid because it is not found.')\n",
    "    \n",
    "    def roll_die(self, num_rolls = 1):\n",
    "        \"\"\"\n",
    "        PURPOSE: Rolls the die one or more times\n",
    "        \n",
    "        INPUT:\n",
    "        num_rolls   the number of times to roll the die - defaults to 1 (int)\n",
    "        \n",
    "        OUTPUT:\n",
    "        results    a list of the outcomes of the die rolls\n",
    "        \"\"\"\n",
    "        results = []\n",
    "        \n",
    "        for i in range(num_rolls):\n",
    "            result = self.__diedf.reset_index()['side']\\\n",
    "            .sample(weights=self.__diedf.reset_index()['weight'])\\\n",
    "            .values[0]\n",
    "            results.append(result)\n",
    "            \n",
    "        return results\n",
    "    \n",
    "    def show_die(self):\n",
    "        \"\"\"\n",
    "        PURPOSE: Show the user the die's current set of faces/weights.\n",
    "        \n",
    "        INPUT:\n",
    "        none\n",
    "        \n",
    "        OUTPUT:\n",
    "        the dataframe of the die created in the initializer\n",
    "        \"\"\"\n",
    "        return self.__diedf\n",
    "    \n",
    "    \n",
    "class Game:\n",
    "    \"\"\"\n",
    "    PURPOSE: This class plays the dice game by rolling one or more of the same kind of dice one or more times. Note that each die in a given game will have the same number of sides and associated faces, but each die may have its own weights. This class keeps the results of the most recent play.\n",
    "    \n",
    "    INPUT:\n",
    "    die_lst    a list of die objects\n",
    "    \n",
    "    OUTPUT:\n",
    "    depends on the method applied\n",
    "    \"\"\"\n",
    "    \n",
    "    def __init__(self, die_lst):\n",
    "        \"\"\"\n",
    "        PURPOSE: Initializes a game.\n",
    "        \n",
    "        INPUT:\n",
    "        die_lst    a list of die objects\n",
    "        \n",
    "        OUTPUT:\n",
    "        none\n",
    "        \"\"\"\n",
    "        self.die_lst = die_lst\n",
    "        \n",
    "    def play(self, num_rolls):\n",
    "        \"\"\"\n",
    "        PURPOSE: Rolls the dice however many times are specified in num_rolls and saves the results of the game to a private dataframe. \n",
    "        \n",
    "        INPUT:\n",
    "        num_rolls    number of rolls for the group of dice (int)\n",
    "        \n",
    "        OUTPUT:\n",
    "        none - saves the results to a private dataframe\n",
    "        \"\"\"\n",
    "        results = []\n",
    "        for die in self.die_lst:\n",
    "            die_rolls = []\n",
    "            for i in range(num_rolls):\n",
    "                result = die.show_die()\\\n",
    "                .reset_index()['side']\\\n",
    "                .sample(weights=die.show_die()\\\n",
    "                        .reset_index()['weight'])\\\n",
    "                .values[0]\n",
    "                \n",
    "                die_rolls.append(result)\n",
    "            results.append(die_rolls)\n",
    "    \n",
    "        self.__play_df = pd.DataFrame(results)\n",
    "        self.__play_df.index.name = 'die_number'\n",
    "        self.__play_df.T.index.name = 'roll_number'\n",
    "    \n",
    "    def show_results(self, df_form = 'wide'):\n",
    "        \"\"\"\n",
    "        PURPOSE: Shows the user the results of the most recent play in the game by passing the dataframe to the user in a specified format.\n",
    "        \n",
    "        INPUT:\n",
    "        df_form    optional argument that takes the form \"wide\" or \"narrow\" for the dataframe\n",
    "        \n",
    "        OUTPUT:\n",
    "        either the narrow or wide form of the private dataframe containing play results\n",
    "        \"\"\"\n",
    "        if df_form == 'narrow':\n",
    "            narrow_df = pd.DataFrame(self.__play_df.stack()).rename(columns={0:'face_rolled'})\n",
    "            return narrow_df\n",
    "        elif df_form == 'wide':\n",
    "            return self.__play_df.T\n",
    "        else:\n",
    "            raise Exception(\"Form must be set to either 'wide' or 'narrow'\")\n",
    "            \n",
    "\n",
    "class Analyzer:\n",
    "    \"\"\"\n",
    "    PURPOSE: This class takes the results of a single game and computes various descriptive statistical properties about it. \n",
    "    \n",
    "    INPUT:\n",
    "    game_results    a Game object with shown results (wide or narrow) as the input (dataframe)\n",
    "    \n",
    "    OUTPUT:\n",
    "    depends on method applied\n",
    "    \"\"\"\n",
    "    def __init__(self, game_results):\n",
    "        \"\"\"\n",
    "        PURPOSE: Initializes the analyzer.\n",
    "        \n",
    "        INPUT:\n",
    "        game_results   a Game object with shown results (wide or narrow) as the input (dataframe)\n",
    "        \n",
    "        OUTPUT:\n",
    "        none\n",
    "        \"\"\"\n",
    "        self.game_results = game_results\n",
    "    \n",
    "    def comp_jackpot(self):\n",
    "        \"\"\"\n",
    "        PURPOSE: Computes how many times the game resulted in all faces of the dice being identical, or in other words, the \"jackpot.\"\n",
    "        \n",
    "        INPUT:\n",
    "        none\n",
    "        \n",
    "        OUTPUT:\n",
    "        the number of times the game had a jackpot (int)\n",
    "        \"\"\"\n",
    "        if len(self.game_results.columns) == 1:\n",
    "            game_unstacked = self.game_results.unstack(level = 0)\n",
    "            jackpots = 0\n",
    "            self.jackpot_df = pd.DataFrame([])\n",
    "    \n",
    "            for i in range(len(game_unstacked)):\n",
    "                arr = game_unstacked.loc[i, :]\n",
    "                if np.all(arr == arr[0]) == True:\n",
    "                    jackpots += 1\n",
    "                    for j in range(len(game_unstacked.columns)):\n",
    "                        self.jackpot_df.loc[i, j] = arr[0]\n",
    "                else:\n",
    "                    continue\n",
    "            self.jackpot_df.index.name = 'roll_number'\n",
    "            return jackpots\n",
    "        else:\n",
    "            jackpots = 0\n",
    "            self.jackpot_df = pd.DataFrame([])\n",
    "    \n",
    "            for i in range(len(self.game_results)):\n",
    "                arr = self.game_results.loc[i, :]\n",
    "                if np.all(arr == arr[0]) == True:\n",
    "                    jackpots += 1\n",
    "                    for j in range(len(self.game_results.columns)):\n",
    "                        self.jackpot_df.loc[i, j] = arr[0]\n",
    "                else:\n",
    "                    continue\n",
    "            self.jackpot_df.index.name = 'roll_number'\n",
    "            return jackpots\n",
    "        \n",
    "    def comp_combo(self):\n",
    "        \"\"\"\n",
    "        PURPOSE: Computes the distinct combinations of faces rolled, along with their counts.\n",
    "        \n",
    "        INPUT:\n",
    "        none\n",
    "        \n",
    "        OUTPUT:\n",
    "        none - results are stored as combo_df (dataframe)\n",
    "        \"\"\"\n",
    "        # narrow df\n",
    "        if len(self.game_results.columns) == 1:\n",
    "            self.combo_df = self.game_results.unstack(level = 0).apply(lambda x:\\\n",
    "                                                                       pd.Series(sorted(x)),\\\n",
    "                                                                       1).\\\n",
    "            value_counts().to_frame('n')\n",
    "\n",
    "            \n",
    "        else: # if the game is provided as a wide df\n",
    "            self.combo_df = self.game_results.apply(lambda x:\\\n",
    "                                                    pd.Series(sorted(x)),\\\n",
    "                                                    1).value_counts().to_frame('n')\n",
    "            \n",
    "    def count_faces_per_roll(self):\n",
    "        \"\"\"\n",
    "        PURPOSE: Compute how many times a given face is rolled in each event/roll.\n",
    "        \n",
    "        INPUT:\n",
    "        none\n",
    "        \n",
    "        OUTPUT:\n",
    "        none - results are stored as val_counts_df (dataframe)\n",
    "        \"\"\"\n",
    "        # narrow df\n",
    "        if len(self.game_results.columns) == 1:\n",
    "            game_unstacked = self.game_results.unstack(level = 0)\n",
    "            \n",
    "            self.val_counts_df = game_unstacked.apply(pd.Series.value_counts,\\\n",
    "                                                      axis = 1).fillna(0)\n",
    "                \n",
    "        # wide df\n",
    "        else:\n",
    "            self.val_counts_df = self.game_results.apply(pd.Series.value_counts,\\\n",
    "                                                         axis = 1).fillna(0)"
   ]
  },
  {
   "cell_type": "markdown",
   "id": "4c81c4f0-b6ff-46ab-ba2c-9de7f0179715",
   "metadata": {},
   "source": [
    "# Test Module"
   ]
  },
  {
   "cell_type": "code",
   "execution_count": 3,
   "id": "14b878d8-258b-4cf2-ad88-b8ee90d43977",
   "metadata": {},
   "outputs": [
    {
     "name": "stderr",
     "output_type": "stream",
     "text": [
      "test_1_comp_jackpot_wide (__main__.AnalyzerTestSuite) ... ok\n",
      "test_2_comp_jackpot_nar (__main__.AnalyzerTestSuite) ... ok\n",
      "test_3_comp_combo_wide (__main__.AnalyzerTestSuite) ... ok\n",
      "test_4_comp_combo_nar (__main__.AnalyzerTestSuite) ... ok\n",
      "test_5_count_faces_per_roll_wide (__main__.AnalyzerTestSuite) ... ok\n",
      "test_6_count_faces_per_roll_nar (__main__.AnalyzerTestSuite) ... ok\n",
      "test_1_change_weight (__main__.DieTestSuite) ... ok\n",
      "test_2_roll_die_default (__main__.DieTestSuite) ... ok\n",
      "test_3_roll_die (__main__.DieTestSuite) ... ok\n",
      "test_4_show_die (__main__.DieTestSuite) ... ok\n",
      "test_1_play (__main__.GameTestSuite) ... ok\n",
      "test_2_show_results_narrow (__main__.GameTestSuite) ... ok\n",
      "test_3_show_results_wide (__main__.GameTestSuite) ... ok\n",
      "\n",
      "----------------------------------------------------------------------\n",
      "Ran 13 tests in 0.785s\n",
      "\n",
      "OK\n"
     ]
    }
   ],
   "source": [
    "import pandas as pd\n",
    "import numpy as np\n",
    "import unittest\n",
    "from montecarlo.montecarlo import Die\n",
    "\n",
    "class DieTestSuite(unittest.TestCase):\n",
    "    \"\"\"\n",
    "    PURPOSE: This class will test the Die class using unittest.\n",
    "    \n",
    "    INPUT:\n",
    "    none\n",
    "    \n",
    "    OUTPUT:\n",
    "    none\n",
    "    \"\"\"\n",
    "    def test_1_change_weight(self):\n",
    "        \"\"\"\n",
    "        PURPOSE: Test whether or not the 'change_weight' method of the Die class functions properly. In particular, it checks that the weight of the 'a' face changes to 2 when specified.\n",
    "        \n",
    "        INPUT:\n",
    "        none\n",
    "        \n",
    "        OUTPUT:\n",
    "        none\n",
    "        \"\"\"\n",
    "        die1 = Die(np.array(['a', 'b', 'c']))\n",
    "        die1.change_weight('a', 2)\n",
    "        \n",
    "        actual = die1.show_die().loc['a', 'weight']\n",
    "        expected = 2.0\n",
    "        self.assertEqual(actual, expected)\n",
    "    \n",
    "    def test_2_roll_die_default(self):\n",
    "        \"\"\"\n",
    "        PURPOSE: Test whether or not the 'roll_die' method of the Die class functions properly. It tests the default value for the number of rolls, 1, making sure that the die rolled once.\n",
    "        \n",
    "        INPUT:\n",
    "        none\n",
    "        \n",
    "        OUTPUT:\n",
    "        none\n",
    "        \"\"\"\n",
    "        die2 = Die(np.array([1, 2, 3, 4, 5, 6]))\n",
    "        \n",
    "        actual = len(die2.roll_die())\n",
    "        expected = 1\n",
    "        self.assertEqual(actual, expected)\n",
    "    \n",
    "    def test_3_roll_die(self):\n",
    "        \"\"\"\n",
    "        PURPOSE: Test whether or not the 'roll_die' method of the Die class functions properly. It tests when the roll number is 10, making sure that the die in the function is actually rolled 10 times.\n",
    "        \n",
    "        INPUT:\n",
    "        none\n",
    "        \n",
    "        OUTPUT:\n",
    "        none\n",
    "        \"\"\"\n",
    "        die3 = Die(np.array([1, 2, 3, 4, 5, 6]))\n",
    "        \n",
    "        actual = len(die3.roll_die(10))\n",
    "        expected = 10\n",
    "        self.assertEqual(actual, expected)\n",
    "    \n",
    "    def test_4_show_die(self):\n",
    "        \"\"\"\n",
    "        PURPOSE: Tests the 'show_die' method of the Die class. It develops a dataframe to compare against a dataframe formed by the 'show_die' method and makes sure they are the same.\n",
    "        \n",
    "        INPUT:\n",
    "        none\n",
    "        \n",
    "        OUTPUT:\n",
    "        none\n",
    "        \"\"\"\n",
    "        die4 = Die(np.array([1, 2, 3, 4, 5, 6]))\n",
    "        die4.change_weight(3, 5)\n",
    "        \n",
    "        actual_df = die4.show_die().reset_index()\n",
    "        expected_df = pd.DataFrame({'side': [1, 2, 3, 4, 5, 6],\\\n",
    "                                    'weight': [1, 1, 5, 1, 1, 1]})\n",
    "        \n",
    "        actual_lst = []\n",
    "        for i in range(len(actual_df)):\n",
    "            if actual_df.iloc[i, 1] == expected_df.iloc[i, 1]:\n",
    "                actual_lst.append(1)\n",
    "            else:\n",
    "                actual_lst.append(2)\n",
    "        \n",
    "        actual = all(x == 1 for x in actual_lst)\n",
    "        expected = True\n",
    "        self.assertEqual(actual, expected)\n",
    "        \n",
    "        \n",
    "from montecarlo.montecarlo import Game\n",
    "\n",
    "class GameTestSuite(unittest.TestCase):\n",
    "    \"\"\"\n",
    "    PURPOSE: This class will test the Game class using unittest.\n",
    "    \n",
    "        INPUT:\n",
    "        none\n",
    "        \n",
    "        OUTPUT:\n",
    "        none\n",
    "    \"\"\"\n",
    "    def test_1_play(self):\n",
    "        \"\"\"\n",
    "        PURPOSE: Tests the 'play' method of the Game class by checking that a set dataframe with length 5 and a dataframe made of a game played 5 times have the same length. \n",
    "        \n",
    "        INPUT:\n",
    "        none\n",
    "        \n",
    "        OUTPUT:\n",
    "        none\n",
    "        \"\"\"\n",
    "        die1 = Die(np.array([4, 5, 6]))\n",
    "        die2 = Die(np.array([4, 5, 6]))\n",
    "        die3 = Die(np.array([4, 5, 6]))\n",
    "        dice = [die1, die2, die3]\n",
    "        game1 = Game(dice)\n",
    "            \n",
    "        game1.play(5)\n",
    "        game1_df = game1.show_results()\n",
    "            \n",
    "        actual_len = len(game1_df)\n",
    "        expected_len = 5\n",
    "        actual_width = len(game1_df.columns)\n",
    "        expected_width = 3\n",
    "            \n",
    "        actual = actual_len == expected_len and actual_width == expected_width\n",
    "        expected = True\n",
    "        self.assertEqual(actual, expected)\n",
    "            \n",
    "    def test_2_show_results_narrow(self):\n",
    "        \"\"\"\n",
    "        PURPOSE: Tests the 'show_results' method of the Game class (a narrow dataframe). It compares an integer for what the length of the resulting dataframe should be with the actual length of the dataframe.\n",
    "        \n",
    "        INPUT:\n",
    "        none\n",
    "        \n",
    "        OUTPUT:\n",
    "        none\n",
    "        \"\"\"\n",
    "        die1 = Die(np.array(['a', 'b', 'c']))\n",
    "        die2 = Die(np.array(['a', 'b', 'c']))\n",
    "        die3 = Die(np.array(['a', 'b', 'c']))\n",
    "        dice = [die1, die2, die3]\n",
    "        game1 = Game(dice)\n",
    "            \n",
    "        game1.play(5)\n",
    "        game1_df = game1.show_results('narrow')\n",
    "            \n",
    "        actual_len = len(game1_df)\n",
    "        expected_len = 15\n",
    "        actual_width = len(game1_df.columns)\n",
    "        expected_width = 1\n",
    "            \n",
    "        actual = actual_len == expected_len and actual_width == expected_width\n",
    "        expected = True\n",
    "        self.assertEqual(actual, expected)\n",
    "        \n",
    "    def test_3_show_results_wide(self):\n",
    "        \"\"\"\n",
    "        PURPOSE: Tests the 'show_results' method of the Game class (wide dataframe). It compares the expected length and width of the resulting dataframe with the actual length and width of the dataframe to ensure they are the same.\n",
    "        \n",
    "        INPUT:\n",
    "        none\n",
    "        \n",
    "        OUTPUT:\n",
    "        none\n",
    "        \"\"\"\n",
    "        die1 = Die(np.array(['a', 'b', 'c']))\n",
    "        die2 = Die(np.array(['a', 'b', 'c']))\n",
    "        die3 = Die(np.array(['a', 'b', 'c']))\n",
    "        dice = [die1, die2, die3]\n",
    "        game1 = Game(dice)\n",
    "            \n",
    "        game1.play(50)\n",
    "        game1_df = game1.show_results()\n",
    "            \n",
    "        actual_len = len(game1_df)\n",
    "        expected_len = 50\n",
    "        actual_width = len(game1_df.columns)\n",
    "        expected_width = 3\n",
    "            \n",
    "        actual = actual_len == expected_len and actual_width == expected_width\n",
    "        expected = True\n",
    "        self.assertEqual(actual, expected)\n",
    "        \n",
    "        \n",
    "from montecarlo.montecarlo import Analyzer\n",
    "\n",
    "class AnalyzerTestSuite(unittest.TestCase):\n",
    "    \"\"\"\n",
    "    PURPOSE: This class will test the Analyzer class using unittest.\n",
    "    \n",
    "        INPUT:\n",
    "        none\n",
    "        \n",
    "        OUTPUT:\n",
    "        none\n",
    "    \"\"\"\n",
    "    def test_1_comp_jackpot_wide(self):\n",
    "        \"\"\"\n",
    "        PURPOSE: Tests the 'comp_jackpot' method of the Analyzer class on a wide dataframe by checking that the output is an integer, which is expected.\n",
    "        \n",
    "        INPUT:\n",
    "        none\n",
    "        \n",
    "        OUTPUT:\n",
    "        none\n",
    "        \"\"\"\n",
    "        die1 = Die(np.array([1, 2, 3, 4, 5]))\n",
    "        die2 = Die(np.array([1, 2, 3, 4, 5]))\n",
    "        die3 = Die(np.array([1, 2, 3, 4, 5]))\n",
    "        die2.change_weight(1, 3)\n",
    "        dice = [die1, die2, die3]\n",
    "            \n",
    "        game = Game(dice)\n",
    "        game.play(3)\n",
    "        game_results_wide = game.show_results('wide')\n",
    "            \n",
    "        analyze_wide = Analyzer(game_results_wide)\n",
    "        num_jackpots = analyze_wide.comp_jackpot()\n",
    "            \n",
    "        actual = type(num_jackpots)\n",
    "        expected = int\n",
    "        self.assertEqual(actual, expected)\n",
    "            \n",
    "    def test_2_comp_jackpot_nar(self):\n",
    "        \"\"\"\n",
    "        PURPOSE: Tests the 'comp_jackpot' method of the Analyzer class on a narrow dataframe by checking that the actual output is an integer, which is expected.\n",
    "        \n",
    "        INPUT:\n",
    "        none\n",
    "        \n",
    "        OUTPUT:\n",
    "        none\n",
    "        \"\"\"\n",
    "        die1 = Die(np.array([1, 2, 3, 4, 5]))\n",
    "        die2 = Die(np.array([1, 2, 3, 4, 5]))\n",
    "        die3 = Die(np.array([1, 2, 3, 4, 5]))\n",
    "        dice = [die1, die2, die3]\n",
    "            \n",
    "        game = Game(dice)\n",
    "        game.play(3)\n",
    "        game_results_nar = game.show_results('narrow')\n",
    "            \n",
    "        analyze_nar = Analyzer(game_results_nar)\n",
    "        num_jackpots = analyze_nar.comp_jackpot()\n",
    "            \n",
    "        actual = type(num_jackpots)\n",
    "        expected = int\n",
    "        self.assertEqual(actual, expected)\n",
    "        \n",
    "    def test_3_comp_combo_wide(self):\n",
    "        \"\"\"\n",
    "        PURPOSE: Tests the 'comp_combo' method of the Analyzer class on a wide dataframe by checking that the length of the resulting dataframe is an integer, which is expected, and signifies that a dataframe has been constructed.\n",
    "        \n",
    "        INPUT:\n",
    "        none\n",
    "        \n",
    "        OUTPUT:\n",
    "        none\n",
    "        \"\"\"\n",
    "        die1 = Die(np.array([1, 2, 3, 4, 5]))\n",
    "        die2 = Die(np.array([1, 2, 3, 4, 5]))\n",
    "        die3 = Die(np.array([1, 2, 3, 4, 5]))\n",
    "        die2.change_weight(1, 3)\n",
    "        dice = [die1, die2, die3]\n",
    "            \n",
    "        game = Game(dice)\n",
    "        game.play(3)\n",
    "        game_results_wide = game.show_results('wide')\n",
    "            \n",
    "        analyze_wide = Analyzer(game_results_wide)\n",
    "        analyze_wide.comp_combo()\n",
    "        num_combos = len(analyze_wide.combo_df)\n",
    "            \n",
    "        actual = type(num_combos)\n",
    "        expected = int\n",
    "        self.assertEqual(actual, expected)\n",
    "        \n",
    "    def test_4_comp_combo_nar(self):\n",
    "        \"\"\"\n",
    "        PURPOSE: Tests the 'comp_combo' method of the Analyzer class on a narrow dataframe by checking that the length of the resulting dataframe is an integer, which is expected, and shows that a dataframe is created.\n",
    "        \n",
    "        INPUT:\n",
    "        none\n",
    "        \n",
    "        OUTPUT:\n",
    "        none\n",
    "        \"\"\"\n",
    "        die1 = Die(np.array([1, 2, 3, 4, 5]))\n",
    "        die2 = Die(np.array([1, 2, 3, 4, 5]))\n",
    "        die3 = Die(np.array([1, 2, 3, 4, 5]))\n",
    "        die2.change_weight(1, 3)\n",
    "        dice = [die1, die2, die3]\n",
    "            \n",
    "        game = Game(dice)\n",
    "        game.play(3)\n",
    "        game_results_nar = game.show_results('narrow')\n",
    "            \n",
    "        analyze_nar = Analyzer(game_results_nar)\n",
    "        analyze_nar.comp_combo()\n",
    "        num_combos = len(analyze_nar.combo_df)\n",
    "            \n",
    "        actual = type(num_combos)\n",
    "        expected = int\n",
    "        self.assertEqual(actual, expected)\n",
    "            \n",
    "    def test_5_count_faces_per_roll_wide(self):\n",
    "        \"\"\"\n",
    "        PURPOSE: Tests the 'count_faces_per_roll' method of the Analyzer class on a wide dataframe by ensuring the length of the resulting dataframe is as expected.\n",
    "            \n",
    "        INPUT:\n",
    "        none\n",
    "        \n",
    "        OUTPUT:\n",
    "        none\n",
    "        \"\"\"\n",
    "        die1 = Die(np.array(['a', 'b', 'c']))\n",
    "        die2 = Die(np.array(['a', 'b', 'c']))\n",
    "        die3 = Die(np.array(['a', 'b', 'c']))\n",
    "        die2.change_weight('b', 3)\n",
    "        dice = [die1, die2, die3]\n",
    "            \n",
    "        game = Game(dice)\n",
    "        game.play(10)\n",
    "        game_results_wide = game.show_results('wide')\n",
    "            \n",
    "        analyze_wide = Analyzer(game_results_wide)\n",
    "        analyze_wide.count_faces_per_roll()\n",
    "            \n",
    "        actual = len(analyze_wide.val_counts_df)\n",
    "        expected = 10\n",
    "        self.assertEqual(actual, expected)\n",
    "        \n",
    "    def test_6_count_faces_per_roll_nar(self):\n",
    "        \"\"\"\n",
    "        PURPOSE: Tests the 'count_faces_per_roll' method of the Analyzer class on a narrow dataframe by ensuring the length of the resulting dataframe is as expected.\n",
    "        \n",
    "        INPUT:\n",
    "        none\n",
    "        \n",
    "        OUTPUT:\n",
    "        none\n",
    "        \"\"\"\n",
    "        die1 = Die(np.array(['a', 'b', 'c']))\n",
    "        die2 = Die(np.array(['a', 'b', 'c']))\n",
    "        die3 = Die(np.array(['a', 'b', 'c']))\n",
    "        die2.change_weight('b', 3)\n",
    "        dice = [die1, die2, die3]\n",
    "            \n",
    "        game = Game(dice)\n",
    "        game.play(10)\n",
    "        game_results_nar = game.show_results('narrow')\n",
    "            \n",
    "        analyze_nar = Analyzer(game_results_nar)\n",
    "        analyze_nar.count_faces_per_roll()\n",
    "            \n",
    "        actual = len(analyze_nar.val_counts_df)\n",
    "        expected = 10\n",
    "        self.assertEqual(actual, expected)\n",
    "            \n",
    "    \n",
    "if __name__ == '__main__':\n",
    "    unittest.main(argv=['first-arg-is-ignored'], exit=False, verbosity=2)\n",
    "\n",
    "# argv=['first-arg-is-ignored'] <- this argument is only used in this jupyter notebook"
   ]
  },
  {
   "cell_type": "markdown",
   "id": "3c2b90b6-ac8b-43fa-a069-cb5b0b22aee0",
   "metadata": {},
   "source": [
    "# Test Results"
   ]
  },
  {
   "cell_type": "markdown",
   "id": "2535f01b-2cff-4ee7-9603-0dbf2263be1f",
   "metadata": {},
   "source": [
    "test_1_comp_jackpot_wide (__main__.AnalyzerTestSuite) ... ok<br>\n",
    "test_2_comp_jackpot_nar (__main__.AnalyzerTestSuite) ... ok<br>\n",
    "test_3_comp_combo_wide (__main__.AnalyzerTestSuite) ... ok<br>\n",
    "test_4_comp_combo_nar (__main__.AnalyzerTestSuite) ... ok<br>\n",
    "test_5_count_faces_per_roll_wide (__main__.AnalyzerTestSuite) ... ok<br>\n",
    "test_6_count_faces_per_roll_nar (__main__.AnalyzerTestSuite) ... ok<br>\n",
    "test_1_change_weight (__main__.DieTestSuite) ... ok<br>\n",
    "test_2_roll_die_default (__main__.DieTestSuite) ... ok<br>\n",
    "test_3_roll_die (__main__.DieTestSuite) ... ok<br>\n",
    "test_4_show_die (__main__.DieTestSuite) ... ok<br>\n",
    "test_1_play (__main__.GameTestSuite) ... ok<br>\n",
    "test_2_show_results_narrow (__main__.GameTestSuite) ... ok<br>\n",
    "test_3_show_results_wide (__main__.GameTestSuite) ... ok<br>\n",
    "\n",
    "----------------------------------------------------------------------<br>\n",
    "Ran 13 tests in 0.609s<br>\n",
    "\n",
    "OK<br>\n"
   ]
  },
  {
   "cell_type": "markdown",
   "id": "7c44695d-d1b3-4edf-9f94-e64d7446f199",
   "metadata": {},
   "source": [
    "# Scenarios\n",
    "\n",
    "Code blocks with your scenarios and their outputs. \n",
    "\n",
    "These should have appropriate import statements even though the code is now in the same notebook as the classes it calls. "
   ]
  },
  {
   "cell_type": "code",
   "execution_count": 4,
   "id": "174e5917-fa30-4e41-b221-90569e71c480",
   "metadata": {},
   "outputs": [],
   "source": [
    "import pandas as pd\n",
    "import numpy as np"
   ]
  },
  {
   "cell_type": "markdown",
   "id": "90b7abd8-f4a7-4d71-bc9a-746640516b98",
   "metadata": {},
   "source": [
    "## Scenario 1"
   ]
  },
  {
   "cell_type": "markdown",
   "id": "54f87ba7-e394-4aae-9314-2b57ba6146c6",
   "metadata": {},
   "source": [
    "Create a fair coin (with faces H and T) and one unfair coin, in which one of the faces has a weight of 5 and the others 1."
   ]
  },
  {
   "cell_type": "code",
   "execution_count": 5,
   "id": "9956aa77-3385-414a-b217-c3ab05e97ad1",
   "metadata": {},
   "outputs": [],
   "source": [
    "from montecarlo.montecarlo import Die"
   ]
  },
  {
   "cell_type": "code",
   "execution_count": 6,
   "id": "de3ffdd7-9d50-4f07-a1ae-b95042114d28",
   "metadata": {},
   "outputs": [],
   "source": [
    "arr1 = np.array(['H', 'T'])\n",
    "fair_die = Die(arr1)\n",
    "unfair_die = Die(arr1)"
   ]
  },
  {
   "cell_type": "code",
   "execution_count": 7,
   "id": "08ed44a4-0478-4067-9603-1c25e5509781",
   "metadata": {},
   "outputs": [],
   "source": [
    "unfair_die.change_weight('H', 5)"
   ]
  },
  {
   "cell_type": "markdown",
   "id": "ca292360-e094-41f7-8c49-9e49af4d2b23",
   "metadata": {},
   "source": [
    "Play a game of 1000 flips of three coins with all fair dice."
   ]
  },
  {
   "cell_type": "code",
   "execution_count": 8,
   "id": "46fd9216-b9c0-4a94-a138-2319fa68abec",
   "metadata": {},
   "outputs": [],
   "source": [
    "from montecarlo.montecarlo import Game"
   ]
  },
  {
   "cell_type": "code",
   "execution_count": 9,
   "id": "fd985767-6e2d-41ea-9cdb-03bca39172d8",
   "metadata": {},
   "outputs": [],
   "source": [
    "fair_list = [fair_die, fair_die, fair_die]\n",
    "fair_game = Game(fair_list)"
   ]
  },
  {
   "cell_type": "code",
   "execution_count": 10,
   "id": "6736b2b8-6daf-4026-89df-447242732bfc",
   "metadata": {},
   "outputs": [],
   "source": [
    "fair_game.play(1000)"
   ]
  },
  {
   "cell_type": "markdown",
   "id": "004c0366-cfa9-48ed-9731-3a3ab00c6958",
   "metadata": {},
   "source": [
    "Play a game of 1000 flips with two unfair dice and one fair die."
   ]
  },
  {
   "cell_type": "code",
   "execution_count": 11,
   "id": "6aa78b2f-1512-46a2-be02-16534f87694a",
   "metadata": {},
   "outputs": [],
   "source": [
    "unfair_list = [unfair_die, unfair_die, fair_die]\n",
    "unfair_game = Game(unfair_list)"
   ]
  },
  {
   "cell_type": "code",
   "execution_count": 12,
   "id": "ef5c66a0-4f46-4a9a-9a50-4626b607b76d",
   "metadata": {},
   "outputs": [],
   "source": [
    "unfair_game.play(1000)"
   ]
  },
  {
   "cell_type": "markdown",
   "id": "9790b891-45e6-4a02-a1da-3ac458af0fd6",
   "metadata": {},
   "source": [
    "For each game, use an Analyzer object to determine the relative frequency of jackpots – getting either all Hs or all Ts. We start by analyzing the number of jackpots from the fair game."
   ]
  },
  {
   "cell_type": "code",
   "execution_count": 13,
   "id": "5c11db10-30a3-431a-a33a-04643d852e61",
   "metadata": {},
   "outputs": [],
   "source": [
    "from montecarlo.montecarlo import Analyzer"
   ]
  },
  {
   "cell_type": "code",
   "execution_count": 14,
   "id": "bd44108a-ed22-46f0-b2df-025f8b19f1ef",
   "metadata": {},
   "outputs": [],
   "source": [
    "fair_results = fair_game.show_results('wide')"
   ]
  },
  {
   "cell_type": "code",
   "execution_count": 15,
   "id": "72b047c3-226e-4810-9da3-5a42cae3fdb6",
   "metadata": {},
   "outputs": [],
   "source": [
    "fair_analysis = Analyzer(fair_results)"
   ]
  },
  {
   "cell_type": "code",
   "execution_count": 16,
   "id": "adc7de9b-e44e-4f3f-86cb-cfb8529ab117",
   "metadata": {},
   "outputs": [
    {
     "name": "stdout",
     "output_type": "stream",
     "text": [
      "247\n"
     ]
    }
   ],
   "source": [
    "fair_jackpots = fair_analysis.comp_jackpot()\n",
    "print(fair_jackpots)"
   ]
  },
  {
   "cell_type": "markdown",
   "id": "3ea33a83-0eed-436a-88db-3b56f659289f",
   "metadata": {},
   "source": [
    "Above is the number of jackpots in the fair game. Now we move to analyzing the number of jackpots in the unfair game. We expect this number to be higher since we increased the weight of 'H.'"
   ]
  },
  {
   "cell_type": "code",
   "execution_count": 17,
   "id": "cd329883-391c-4c03-ac67-99e9f6c032d9",
   "metadata": {},
   "outputs": [],
   "source": [
    "unfair_results = unfair_game.show_results('wide')"
   ]
  },
  {
   "cell_type": "code",
   "execution_count": 18,
   "id": "cae5dab6-b1e4-42a5-aa3f-5919c0daa79f",
   "metadata": {},
   "outputs": [],
   "source": [
    "unfair_analysis = Analyzer(unfair_results)"
   ]
  },
  {
   "cell_type": "code",
   "execution_count": 19,
   "id": "2c87b67f-7c99-435e-9267-540e06725c79",
   "metadata": {},
   "outputs": [
    {
     "name": "stdout",
     "output_type": "stream",
     "text": [
      "354\n"
     ]
    }
   ],
   "source": [
    "unfair_jackpots = unfair_analysis.comp_jackpot()\n",
    "print(unfair_jackpots)"
   ]
  },
  {
   "cell_type": "markdown",
   "id": "1e5b5af7-0799-4c28-9a11-3354b7e62358",
   "metadata": {},
   "source": [
    "The number of jackpots for the unfair game is shown above."
   ]
  },
  {
   "cell_type": "markdown",
   "id": "a9044394-3d26-4215-9df4-3faaee9bd0c9",
   "metadata": {},
   "source": [
    "Compute relative frequency as the number of jackpots over the total number of rolls."
   ]
  },
  {
   "cell_type": "code",
   "execution_count": 20,
   "id": "1d363684-06e5-414b-a663-f6b1515955cd",
   "metadata": {},
   "outputs": [],
   "source": [
    "fair_jackpot_freq = fair_jackpots / 1000\n",
    "unfair_jackpot_freq = unfair_jackpots / 1000"
   ]
  },
  {
   "cell_type": "markdown",
   "id": "73179f69-71ac-4136-82ab-4b1d1cde16f4",
   "metadata": {},
   "source": [
    "Show results, comparing the two relative frequencies, in a simple bar chart."
   ]
  },
  {
   "cell_type": "code",
   "execution_count": 21,
   "id": "5093d81c-9dd9-4eb4-99aa-270211278dd4",
   "metadata": {},
   "outputs": [],
   "source": [
    "import matplotlib.pyplot as plt"
   ]
  },
  {
   "cell_type": "code",
   "execution_count": 22,
   "id": "2f281de8-89dd-458d-917a-20d6ee29f58b",
   "metadata": {},
   "outputs": [],
   "source": [
    "xaxis = ['Fair Game', 'Unfair Game']\n",
    "yaxis = [fair_jackpot_freq, unfair_jackpot_freq]\n",
    "title = 'Frequency of Jackpots within a Game'"
   ]
  },
  {
   "cell_type": "code",
   "execution_count": 23,
   "id": "1689245c-919f-432b-b9bf-e4ff6a946bdf",
   "metadata": {},
   "outputs": [
    {
     "data": {
      "image/png": "[encoded data removed]",
      "text/plain": [
       "<Figure size 432x288 with 1 Axes>"
      ]
     },
     "metadata": {
      "needs_background": "light"
     },
     "output_type": "display_data"
    }
   ],
   "source": [
    "plt.bar(xaxis, yaxis);\n",
    "plt.title(title)\n",
    "plt.show()"
   ]
  },
  {
   "cell_type": "markdown",
   "id": "3f94cda0-74a0-45d2-bed7-de1e1ad1e3c9",
   "metadata": {},
   "source": [
    "A barplot comparing the jackpot frequencies is displayed above."
   ]
  },
  {
   "cell_type": "markdown",
   "id": "92793a09-0024-465d-b272-2ef8b9a6c21c",
   "metadata": {},
   "source": [
    "## Scenario 2"
   ]
  },
  {
   "cell_type": "markdown",
   "id": "7e478373-9c8c-4561-8891-308327a76677",
   "metadata": {},
   "source": [
    "Create a fair die and two unfair dice, all of six sides with the faces 1 through 6. One unfair die (Type 1) will weight 6 five times more than the others (i.e. it has weight of 5 and the others a weight of 1 each). The other unfair die (Type 2) will weight 1 five times more than the others."
   ]
  },
  {
   "cell_type": "code",
   "execution_count": 24,
   "id": "8d76953f-0ba5-4321-b3e2-dc331267186e",
   "metadata": {},
   "outputs": [],
   "source": [
    "arr = np.array([1, 2, 3, 4, 5, 6])\n",
    "\n",
    "fair_die = Die(arr)\n",
    "\n",
    "unfair_die1 = Die(arr)\n",
    "unfair_die1.change_weight(6, 5)\n",
    "\n",
    "unfair_die2 = Die(arr)\n",
    "unfair_die2.change_weight(1, 5)"
   ]
  },
  {
   "cell_type": "markdown",
   "id": "0c58e8e1-5a30-4e2f-87a5-960e33f86440",
   "metadata": {},
   "source": [
    "Play a game of 10000 rolls with 5 fair dice."
   ]
  },
  {
   "cell_type": "code",
   "execution_count": 25,
   "id": "c4160495-d519-42d4-a1fe-493803b316c6",
   "metadata": {},
   "outputs": [],
   "source": [
    "fair_list = [fair_die, fair_die, fair_die, fair_die, fair_die]\n",
    "fair_game = Game(fair_list)"
   ]
  },
  {
   "cell_type": "code",
   "execution_count": 26,
   "id": "5e488b73-917d-4d14-979e-8cd79ade7f6a",
   "metadata": {},
   "outputs": [],
   "source": [
    "fair_game.play(10000)"
   ]
  },
  {
   "cell_type": "markdown",
   "id": "091be16c-55fd-4510-abaa-69be65c88607",
   "metadata": {},
   "source": [
    "Play a game of 10000 rolls with 2 unfair dice of type 1, 1 unfair die of type 2, and the rest fair dice."
   ]
  },
  {
   "cell_type": "code",
   "execution_count": 27,
   "id": "0ef5b11f-983c-4798-8e9e-68d3f3526db5",
   "metadata": {},
   "outputs": [],
   "source": [
    "unfair_list = [unfair_die1, unfair_die1, unfair_die2, fair_die, fair_die]\n",
    "unfair_game = Game(unfair_list)"
   ]
  },
  {
   "cell_type": "code",
   "execution_count": 28,
   "id": "0b6e88b1-9d2e-4a8e-993c-80fed76aaa94",
   "metadata": {},
   "outputs": [],
   "source": [
    "unfair_game.play(10000)"
   ]
  },
  {
   "cell_type": "markdown",
   "id": "104b9230-8468-4ea9-9d0f-ff60479cf2fb",
   "metadata": {},
   "source": [
    "For each game, use an Analyzer object to determine the relative frequency of jackpots and show your results, comparing the two relative frequencies, in a simple bar chart."
   ]
  },
  {
   "cell_type": "markdown",
   "id": "4dee2534-a629-4028-90ab-d90f5713d334",
   "metadata": {},
   "source": [
    "First we analyze the fair 6-sided game."
   ]
  },
  {
   "cell_type": "code",
   "execution_count": 29,
   "id": "199c08d1-013b-43b4-8878-74a66530a728",
   "metadata": {},
   "outputs": [],
   "source": [
    "fair_results = fair_game.show_results('narrow')"
   ]
  },
  {
   "cell_type": "code",
   "execution_count": 30,
   "id": "ab72bcb3-2be2-42ee-9cd4-59cf917675c1",
   "metadata": {},
   "outputs": [],
   "source": [
    "fair_analysis = Analyzer(fair_results)"
   ]
  },
  {
   "cell_type": "code",
   "execution_count": 31,
   "id": "a90b803a-11e3-411c-9ead-d3d640c4766d",
   "metadata": {},
   "outputs": [
    {
     "name": "stdout",
     "output_type": "stream",
     "text": [
      "10\n"
     ]
    }
   ],
   "source": [
    "fair_jackpots = fair_analysis.comp_jackpot()\n",
    "print(fair_jackpots)"
   ]
  },
  {
   "cell_type": "code",
   "execution_count": 32,
   "id": "1765daf8-4f7c-48a5-ae03-e31b873b9186",
   "metadata": {},
   "outputs": [
    {
     "data": {
      "text/html": [
       "<div>\n",
       "<style scoped>\n",
       "    .dataframe tbody tr th:only-of-type {\n",
       "        vertical-align: middle;\n",
       "    }\n",
       "\n",
       "    .dataframe tbody tr th {\n",
       "        vertical-align: top;\n",
       "    }\n",
       "\n",
       "    .dataframe thead th {\n",
       "        text-align: right;\n",
       "    }\n",
       "</style>\n",
       "<table border=\"1\" class=\"dataframe\">\n",
       "  <thead>\n",
       "    <tr style=\"text-align: right;\">\n",
       "      <th></th>\n",
       "      <th>0</th>\n",
       "      <th>1</th>\n",
       "      <th>2</th>\n",
       "      <th>3</th>\n",
       "      <th>4</th>\n",
       "    </tr>\n",
       "    <tr>\n",
       "      <th>roll_number</th>\n",
       "      <th></th>\n",
       "      <th></th>\n",
       "      <th></th>\n",
       "      <th></th>\n",
       "      <th></th>\n",
       "    </tr>\n",
       "  </thead>\n",
       "  <tbody>\n",
       "    <tr>\n",
       "      <th>1454</th>\n",
       "      <td>1.0</td>\n",
       "      <td>1.0</td>\n",
       "      <td>1.0</td>\n",
       "      <td>1.0</td>\n",
       "      <td>1.0</td>\n",
       "    </tr>\n",
       "    <tr>\n",
       "      <th>1545</th>\n",
       "      <td>2.0</td>\n",
       "      <td>2.0</td>\n",
       "      <td>2.0</td>\n",
       "      <td>2.0</td>\n",
       "      <td>2.0</td>\n",
       "    </tr>\n",
       "    <tr>\n",
       "      <th>1763</th>\n",
       "      <td>5.0</td>\n",
       "      <td>5.0</td>\n",
       "      <td>5.0</td>\n",
       "      <td>5.0</td>\n",
       "      <td>5.0</td>\n",
       "    </tr>\n",
       "    <tr>\n",
       "      <th>3451</th>\n",
       "      <td>6.0</td>\n",
       "      <td>6.0</td>\n",
       "      <td>6.0</td>\n",
       "      <td>6.0</td>\n",
       "      <td>6.0</td>\n",
       "    </tr>\n",
       "    <tr>\n",
       "      <th>6120</th>\n",
       "      <td>6.0</td>\n",
       "      <td>6.0</td>\n",
       "      <td>6.0</td>\n",
       "      <td>6.0</td>\n",
       "      <td>6.0</td>\n",
       "    </tr>\n",
       "    <tr>\n",
       "      <th>6191</th>\n",
       "      <td>1.0</td>\n",
       "      <td>1.0</td>\n",
       "      <td>1.0</td>\n",
       "      <td>1.0</td>\n",
       "      <td>1.0</td>\n",
       "    </tr>\n",
       "    <tr>\n",
       "      <th>6983</th>\n",
       "      <td>6.0</td>\n",
       "      <td>6.0</td>\n",
       "      <td>6.0</td>\n",
       "      <td>6.0</td>\n",
       "      <td>6.0</td>\n",
       "    </tr>\n",
       "    <tr>\n",
       "      <th>8082</th>\n",
       "      <td>1.0</td>\n",
       "      <td>1.0</td>\n",
       "      <td>1.0</td>\n",
       "      <td>1.0</td>\n",
       "      <td>1.0</td>\n",
       "    </tr>\n",
       "    <tr>\n",
       "      <th>8384</th>\n",
       "      <td>2.0</td>\n",
       "      <td>2.0</td>\n",
       "      <td>2.0</td>\n",
       "      <td>2.0</td>\n",
       "      <td>2.0</td>\n",
       "    </tr>\n",
       "    <tr>\n",
       "      <th>9015</th>\n",
       "      <td>3.0</td>\n",
       "      <td>3.0</td>\n",
       "      <td>3.0</td>\n",
       "      <td>3.0</td>\n",
       "      <td>3.0</td>\n",
       "    </tr>\n",
       "  </tbody>\n",
       "</table>\n",
       "</div>"
      ],
      "text/plain": [
       "               0    1    2    3    4\n",
       "roll_number                         \n",
       "1454         1.0  1.0  1.0  1.0  1.0\n",
       "1545         2.0  2.0  2.0  2.0  2.0\n",
       "1763         5.0  5.0  5.0  5.0  5.0\n",
       "3451         6.0  6.0  6.0  6.0  6.0\n",
       "6120         6.0  6.0  6.0  6.0  6.0\n",
       "6191         1.0  1.0  1.0  1.0  1.0\n",
       "6983         6.0  6.0  6.0  6.0  6.0\n",
       "8082         1.0  1.0  1.0  1.0  1.0\n",
       "8384         2.0  2.0  2.0  2.0  2.0\n",
       "9015         3.0  3.0  3.0  3.0  3.0"
      ]
     },
     "execution_count": 32,
     "metadata": {},
     "output_type": "execute_result"
    }
   ],
   "source": [
    "fair_analysis.jackpot_df"
   ]
  },
  {
   "cell_type": "markdown",
   "id": "22d24fbe-e39f-44df-9b57-c7f02921b91f",
   "metadata": {},
   "source": [
    "You can see the fair game's jackpots above."
   ]
  },
  {
   "cell_type": "markdown",
   "id": "0387ef11-4419-42f8-835a-dfcd96c35904",
   "metadata": {},
   "source": [
    "Now we will move onto analyzing the number of jackpots in the unfair game."
   ]
  },
  {
   "cell_type": "code",
   "execution_count": 33,
   "id": "4c2a2b4e-4ff5-4320-b374-81c83e82c16e",
   "metadata": {},
   "outputs": [],
   "source": [
    "unfair_results = unfair_game.show_results('narrow')"
   ]
  },
  {
   "cell_type": "code",
   "execution_count": 34,
   "id": "53c10af1-ef1f-4d3c-b878-d6e87e67afe3",
   "metadata": {},
   "outputs": [],
   "source": [
    "unfair_analysis = Analyzer(unfair_results)"
   ]
  },
  {
   "cell_type": "code",
   "execution_count": 35,
   "id": "245a0459-d01a-4674-ab1c-ed798c13c0c0",
   "metadata": {},
   "outputs": [
    {
     "name": "stdout",
     "output_type": "stream",
     "text": [
      "6\n"
     ]
    }
   ],
   "source": [
    "unfair_jackpots = unfair_analysis.comp_jackpot()\n",
    "print(unfair_jackpots)"
   ]
  },
  {
   "cell_type": "code",
   "execution_count": 36,
   "id": "2751213c-9408-415e-998c-410420c86921",
   "metadata": {},
   "outputs": [
    {
     "data": {
      "text/html": [
       "<div>\n",
       "<style scoped>\n",
       "    .dataframe tbody tr th:only-of-type {\n",
       "        vertical-align: middle;\n",
       "    }\n",
       "\n",
       "    .dataframe tbody tr th {\n",
       "        vertical-align: top;\n",
       "    }\n",
       "\n",
       "    .dataframe thead th {\n",
       "        text-align: right;\n",
       "    }\n",
       "</style>\n",
       "<table border=\"1\" class=\"dataframe\">\n",
       "  <thead>\n",
       "    <tr style=\"text-align: right;\">\n",
       "      <th></th>\n",
       "      <th>0</th>\n",
       "      <th>1</th>\n",
       "      <th>2</th>\n",
       "      <th>3</th>\n",
       "      <th>4</th>\n",
       "    </tr>\n",
       "    <tr>\n",
       "      <th>roll_number</th>\n",
       "      <th></th>\n",
       "      <th></th>\n",
       "      <th></th>\n",
       "      <th></th>\n",
       "      <th></th>\n",
       "    </tr>\n",
       "  </thead>\n",
       "  <tbody>\n",
       "    <tr>\n",
       "      <th>83</th>\n",
       "      <td>5.0</td>\n",
       "      <td>5.0</td>\n",
       "      <td>5.0</td>\n",
       "      <td>5.0</td>\n",
       "      <td>5.0</td>\n",
       "    </tr>\n",
       "    <tr>\n",
       "      <th>1051</th>\n",
       "      <td>2.0</td>\n",
       "      <td>2.0</td>\n",
       "      <td>2.0</td>\n",
       "      <td>2.0</td>\n",
       "      <td>2.0</td>\n",
       "    </tr>\n",
       "    <tr>\n",
       "      <th>2059</th>\n",
       "      <td>3.0</td>\n",
       "      <td>3.0</td>\n",
       "      <td>3.0</td>\n",
       "      <td>3.0</td>\n",
       "      <td>3.0</td>\n",
       "    </tr>\n",
       "    <tr>\n",
       "      <th>3401</th>\n",
       "      <td>6.0</td>\n",
       "      <td>6.0</td>\n",
       "      <td>6.0</td>\n",
       "      <td>6.0</td>\n",
       "      <td>6.0</td>\n",
       "    </tr>\n",
       "    <tr>\n",
       "      <th>4413</th>\n",
       "      <td>6.0</td>\n",
       "      <td>6.0</td>\n",
       "      <td>6.0</td>\n",
       "      <td>6.0</td>\n",
       "      <td>6.0</td>\n",
       "    </tr>\n",
       "    <tr>\n",
       "      <th>8871</th>\n",
       "      <td>6.0</td>\n",
       "      <td>6.0</td>\n",
       "      <td>6.0</td>\n",
       "      <td>6.0</td>\n",
       "      <td>6.0</td>\n",
       "    </tr>\n",
       "  </tbody>\n",
       "</table>\n",
       "</div>"
      ],
      "text/plain": [
       "               0    1    2    3    4\n",
       "roll_number                         \n",
       "83           5.0  5.0  5.0  5.0  5.0\n",
       "1051         2.0  2.0  2.0  2.0  2.0\n",
       "2059         3.0  3.0  3.0  3.0  3.0\n",
       "3401         6.0  6.0  6.0  6.0  6.0\n",
       "4413         6.0  6.0  6.0  6.0  6.0\n",
       "8871         6.0  6.0  6.0  6.0  6.0"
      ]
     },
     "execution_count": 36,
     "metadata": {},
     "output_type": "execute_result"
    }
   ],
   "source": [
    "unfair_analysis.jackpot_df"
   ]
  },
  {
   "cell_type": "markdown",
   "id": "60417a02-48e4-4728-be27-ab10a5ce6eda",
   "metadata": {},
   "source": [
    "We see the unfair game jackpots above!"
   ]
  },
  {
   "cell_type": "markdown",
   "id": "3e1bdaa5-5df5-419b-8150-2fc1a53665d5",
   "metadata": {},
   "source": [
    "Now we are going to plot these two frequencies against each other in a simple bar chart."
   ]
  },
  {
   "cell_type": "code",
   "execution_count": 37,
   "id": "1cac6be2-070f-4838-b681-7afc24a9c64f",
   "metadata": {},
   "outputs": [],
   "source": [
    "fair_jackpot_freq = fair_jackpots / 10000\n",
    "unfair_jackpot_freq = unfair_jackpots / 10000"
   ]
  },
  {
   "cell_type": "code",
   "execution_count": 38,
   "id": "8bfcdc8f-7890-4860-9169-d42dadaba17d",
   "metadata": {},
   "outputs": [],
   "source": [
    "xaxis = ['Fair Game', 'Unfair Game']\n",
    "yaxis = [fair_jackpot_freq, unfair_jackpot_freq]\n",
    "title = 'Frequency of Jackpots within a Game'"
   ]
  },
  {
   "cell_type": "code",
   "execution_count": 39,
   "id": "c4eabe46-0720-4f94-a572-3c8b8c1b7b7b",
   "metadata": {},
   "outputs": [
    {
     "data": {
      "image/png": "[encoded data removed]",
      "text/plain": [
       "<Figure size 432x288 with 1 Axes>"
      ]
     },
     "metadata": {
      "needs_background": "light"
     },
     "output_type": "display_data"
    }
   ],
   "source": [
    "plt.bar(xaxis, yaxis);\n",
    "plt.title(title)\n",
    "plt.show()"
   ]
  },
  {
   "cell_type": "markdown",
   "id": "a4d4f0d3-fb6f-4b42-8c95-86b495318984",
   "metadata": {},
   "source": [
    "You can visualize the frequencies of jackpots for each game above."
   ]
  },
  {
   "cell_type": "markdown",
   "id": "6e7acd87-a7d6-430d-9897-36be302ca543",
   "metadata": {},
   "source": [
    "Also compute 10 most frequent combinations of faces for each game. Plot each of these as bar charts. We will start by looking at most frequent combinations in the fair game."
   ]
  },
  {
   "cell_type": "code",
   "execution_count": 40,
   "id": "cbaae184-32b7-4b03-aac9-32bde903bed5",
   "metadata": {},
   "outputs": [],
   "source": [
    "fair_analysis.comp_combo()"
   ]
  },
  {
   "cell_type": "code",
   "execution_count": 41,
   "id": "5e36d7c7-acea-403d-9d6e-18f2e418e168",
   "metadata": {},
   "outputs": [],
   "source": [
    "fair_df = fair_analysis.combo_df\n",
    "n_top10_fair_combos = pd.DataFrame(fair_df['n'].nlargest(n=10))"
   ]
  },
  {
   "cell_type": "code",
   "execution_count": 42,
   "id": "e4b766ad-ba6b-46a7-9ee6-4fd8ed5b464c",
   "metadata": {},
   "outputs": [],
   "source": [
    "top10_fair_combos = n_top10_fair_combos.index.tolist()"
   ]
  },
  {
   "cell_type": "code",
   "execution_count": 43,
   "id": "74147edf-92be-4945-ab37-6e54749eaddb",
   "metadata": {},
   "outputs": [
    {
     "data": {
      "text/plain": [
       "[(1, 2, 3, 5, 6),\n",
       " (1, 2, 3, 4, 6),\n",
       " (1, 3, 4, 5, 6),\n",
       " (1, 2, 3, 4, 5),\n",
       " (2, 3, 4, 5, 6),\n",
       " (1, 2, 4, 5, 6),\n",
       " (1, 1, 2, 4, 6),\n",
       " (1, 2, 2, 5, 6),\n",
       " (1, 1, 2, 4, 5),\n",
       " (1, 1, 4, 5, 6)]"
      ]
     },
     "execution_count": 43,
     "metadata": {},
     "output_type": "execute_result"
    }
   ],
   "source": [
    "top10_fair_combos # a list of tuples"
   ]
  },
  {
   "cell_type": "markdown",
   "id": "e491e42f-281a-4ffa-ab95-090209ee8a13",
   "metadata": {},
   "source": [
    "These are the 10 most frequent combinations in the fair game."
   ]
  },
  {
   "cell_type": "code",
   "execution_count": 44,
   "id": "55906366-1ad9-47f5-b9e0-8f1df9268c81",
   "metadata": {},
   "outputs": [],
   "source": [
    "freq_lst = []\n",
    "for val in n_top10_fair_combos['n']:\n",
    "    freq_lst.append(val)\n",
    " # a list of the frequencies"
   ]
  },
  {
   "cell_type": "code",
   "execution_count": 45,
   "id": "ede01d66-ed89-4513-ac4a-657a94dc2c1a",
   "metadata": {},
   "outputs": [],
   "source": [
    "dec_freq = []\n",
    "for val in freq_lst:\n",
    "    dec_freq.append(val / 10000)"
   ]
  },
  {
   "cell_type": "code",
   "execution_count": 46,
   "id": "1df21b24-ca37-41fd-84ec-44df79f0545f",
   "metadata": {},
   "outputs": [],
   "source": [
    "title = 'Fair Game: Top 10 Most Frequent Combinations'"
   ]
  },
  {
   "cell_type": "code",
   "execution_count": 47,
   "id": "2429dcdc-58a7-4af8-9902-e3bea76b1b1d",
   "metadata": {},
   "outputs": [
    {
     "data": {
      "image/png": "[encoded data removed]",
      "text/plain": [
       "<Figure size 432x288 with 1 Axes>"
      ]
     },
     "metadata": {
      "needs_background": "light"
     },
     "output_type": "display_data"
    }
   ],
   "source": [
    "for i in zip(range(len(top10_fair_combos))):\n",
    "    plt.bar(i, dec_freq[i[0]]);\n",
    "plt.xticks((0, 1, 2, 3, 4, 5, 6, 7, 8, 9),\\\n",
    "           top10_fair_combos, rotation = 'vertical');\n",
    "plt.title(title);\n",
    "plt.show()"
   ]
  },
  {
   "cell_type": "markdown",
   "id": "f8e7e6a0-31c5-49f6-9ade-ecb75e822a46",
   "metadata": {},
   "source": [
    "In the graph above, you can see how frequently each of the top 10 most frequent combinations appears in the fair game."
   ]
  },
  {
   "cell_type": "markdown",
   "id": "43f194f9-254a-471a-b970-b5e8cbc9250d",
   "metadata": {},
   "source": [
    "Now, we will move onto evaluating the top 10 most frequent combinations in the unfair game."
   ]
  },
  {
   "cell_type": "code",
   "execution_count": 48,
   "id": "3ccb230e-aaf5-4eaa-bd1d-b4e31069ff83",
   "metadata": {},
   "outputs": [],
   "source": [
    "unfair_analysis.comp_combo()"
   ]
  },
  {
   "cell_type": "code",
   "execution_count": 49,
   "id": "d7e78194-f5a7-4465-8208-752c50e73b7d",
   "metadata": {},
   "outputs": [],
   "source": [
    "unfair_df = unfair_analysis.combo_df\n",
    "n_top10_unfair_combos = pd.DataFrame(unfair_df['n'].nlargest(n=10))"
   ]
  },
  {
   "cell_type": "code",
   "execution_count": 50,
   "id": "4eb5ba6e-8081-4ecd-aa83-5657e5bfa73f",
   "metadata": {},
   "outputs": [],
   "source": [
    "top10_unfair_combos = n_top10_unfair_combos.index.tolist()"
   ]
  },
  {
   "cell_type": "code",
   "execution_count": 51,
   "id": "c8e5efce-d27b-4a6b-8427-a4f629ae9649",
   "metadata": {},
   "outputs": [
    {
     "data": {
      "text/plain": [
       "[(1, 3, 4, 6, 6),\n",
       " (1, 4, 5, 6, 6),\n",
       " (1, 2, 4, 6, 6),\n",
       " (1, 2, 5, 6, 6),\n",
       " (1, 2, 3, 6, 6),\n",
       " (1, 3, 5, 6, 6),\n",
       " (1, 2, 4, 5, 6),\n",
       " (1, 1, 4, 6, 6),\n",
       " (1, 2, 3, 5, 6),\n",
       " (1, 1, 2, 6, 6)]"
      ]
     },
     "execution_count": 51,
     "metadata": {},
     "output_type": "execute_result"
    }
   ],
   "source": [
    "top10_unfair_combos # a list of tuples"
   ]
  },
  {
   "cell_type": "code",
   "execution_count": 52,
   "id": "1cccc603-3992-4e2a-8d0d-e01c6d62b364",
   "metadata": {},
   "outputs": [],
   "source": [
    "freq_lst = []\n",
    "for val in n_top10_unfair_combos['n']:\n",
    "    freq_lst.append(val)\n",
    " # a list of the frequencies"
   ]
  },
  {
   "cell_type": "code",
   "execution_count": 53,
   "id": "da0e28fa-b5ab-4c6d-8eaa-bf67a3be02d4",
   "metadata": {},
   "outputs": [],
   "source": [
    "dec_freq = []\n",
    "for val in freq_lst:\n",
    "    dec_freq.append(val / 10000)"
   ]
  },
  {
   "cell_type": "code",
   "execution_count": 54,
   "id": "2ae685d3-fe96-4b2a-a7cc-857c35b1c884",
   "metadata": {},
   "outputs": [],
   "source": [
    "title = 'Unfair Game: Top 10 Most Frequent Combinations'"
   ]
  },
  {
   "cell_type": "code",
   "execution_count": 55,
   "id": "815410df-9f69-4720-a982-5ab0ebb0b10f",
   "metadata": {},
   "outputs": [
    {
     "data": {
      "image/png": "[encoded data removed]",
      "text/plain": [
       "<Figure size 432x288 with 1 Axes>"
      ]
     },
     "metadata": {
      "needs_background": "light"
     },
     "output_type": "display_data"
    }
   ],
   "source": [
    "for i in zip(range(len(top10_fair_combos))):\n",
    "    plt.bar(i, dec_freq[i[0]]);\n",
    "\n",
    "plt.xticks((0, 1, 2, 3, 4, 5, 6, 7, 8, 9),\\\n",
    "           top10_unfair_combos, rotation = 'vertical');\n",
    "plt.title(title);\n",
    "plt.show()"
   ]
  },
  {
   "cell_type": "markdown",
   "id": "0ebb3bd9-4531-4cd7-bedd-16f420171a63",
   "metadata": {},
   "source": [
    "In the graph above, you can see how frequently each of the top 10 most frequent combinations appears in the unfair game."
   ]
  },
  {
   "cell_type": "markdown",
   "id": "1b47f5b6-188d-4d24-9c2f-687b430e6624",
   "metadata": {},
   "source": [
    "## Scenario 3"
   ]
  },
  {
   "cell_type": "markdown",
   "id": "de6860b8-569f-4027-bc8c-66dedbe5b046",
   "metadata": {},
   "source": [
    "Create a \"die\" of letters from a to z with weights based on their frequency of usage. See Appendix for these weights."
   ]
  },
  {
   "cell_type": "code",
   "execution_count": 56,
   "id": "69e39671-ea1f-4607-8637-b640dd46508f",
   "metadata": {},
   "outputs": [],
   "source": [
    "arr = np.array(['a', 'b', 'c', 'd', 'e', 'f',\\\n",
    "                'g', 'h', 'i', 'j', 'k', 'l',\\\n",
    "                'm', 'n', 'o', 'p', 'q', 'r',\\\n",
    "               's', 't', 'u', 'v', 'w', 'x',\\\n",
    "                'y', 'z'])\n",
    "die = Die(arr)"
   ]
  },
  {
   "cell_type": "code",
   "execution_count": 57,
   "id": "8c51e409-8bfa-4e75-94f3-ecff75d2a211",
   "metadata": {},
   "outputs": [],
   "source": [
    "die.change_weight('a', 8.4966)\n",
    "die.change_weight('b', 2.0720)\n",
    "die.change_weight('c', 4.5388)\n",
    "die.change_weight('d', 3.3844)\n",
    "die.change_weight('e', 11.1607)\n",
    "die.change_weight('f', 1.8121)\n",
    "die.change_weight('g', 2.4705)\n",
    "die.change_weight('h', 3.0034)\n",
    "die.change_weight('i', 7.5448)\n",
    "die.change_weight('j', 0.1965)\n",
    "die.change_weight('k', 1.1016)\n",
    "die.change_weight('l', 5.4893)\n",
    "die.change_weight('m', 3.0129)\n",
    "die.change_weight('n', 6.6544)\n",
    "die.change_weight('o', 7.1635)\n",
    "die.change_weight('p', 3.1671)\n",
    "die.change_weight('q', 0.1962)\n",
    "die.change_weight('r', 7.5809)\n",
    "die.change_weight('s', 5.7351)\n",
    "die.change_weight('t', 6.9509)\n",
    "die.change_weight('u', 3.6308)\n",
    "die.change_weight('v', 1.0074)\n",
    "die.change_weight('w', 1.2899)\n",
    "die.change_weight('x', 0.2902)\n",
    "die.change_weight('y', 1.7779)\n",
    "die.change_weight('z', 0.2722)"
   ]
  },
  {
   "cell_type": "code",
   "execution_count": 58,
   "id": "207be57d-d553-4cf1-b27f-82cb45870e3f",
   "metadata": {},
   "outputs": [
    {
     "data": {
      "text/html": [
       "<div>\n",
       "<style scoped>\n",
       "    .dataframe tbody tr th:only-of-type {\n",
       "        vertical-align: middle;\n",
       "    }\n",
       "\n",
       "    .dataframe tbody tr th {\n",
       "        vertical-align: top;\n",
       "    }\n",
       "\n",
       "    .dataframe thead th {\n",
       "        text-align: right;\n",
       "    }\n",
       "</style>\n",
       "<table border=\"1\" class=\"dataframe\">\n",
       "  <thead>\n",
       "    <tr style=\"text-align: right;\">\n",
       "      <th></th>\n",
       "      <th>weight</th>\n",
       "    </tr>\n",
       "    <tr>\n",
       "      <th>side</th>\n",
       "      <th></th>\n",
       "    </tr>\n",
       "  </thead>\n",
       "  <tbody>\n",
       "    <tr>\n",
       "      <th>a</th>\n",
       "      <td>8.4966</td>\n",
       "    </tr>\n",
       "    <tr>\n",
       "      <th>b</th>\n",
       "      <td>2.0720</td>\n",
       "    </tr>\n",
       "    <tr>\n",
       "      <th>c</th>\n",
       "      <td>4.5388</td>\n",
       "    </tr>\n",
       "    <tr>\n",
       "      <th>d</th>\n",
       "      <td>3.3844</td>\n",
       "    </tr>\n",
       "    <tr>\n",
       "      <th>e</th>\n",
       "      <td>11.1607</td>\n",
       "    </tr>\n",
       "    <tr>\n",
       "      <th>f</th>\n",
       "      <td>1.8121</td>\n",
       "    </tr>\n",
       "    <tr>\n",
       "      <th>g</th>\n",
       "      <td>2.4705</td>\n",
       "    </tr>\n",
       "    <tr>\n",
       "      <th>h</th>\n",
       "      <td>3.0034</td>\n",
       "    </tr>\n",
       "    <tr>\n",
       "      <th>i</th>\n",
       "      <td>7.5448</td>\n",
       "    </tr>\n",
       "    <tr>\n",
       "      <th>j</th>\n",
       "      <td>0.1965</td>\n",
       "    </tr>\n",
       "    <tr>\n",
       "      <th>k</th>\n",
       "      <td>1.1016</td>\n",
       "    </tr>\n",
       "    <tr>\n",
       "      <th>l</th>\n",
       "      <td>5.4893</td>\n",
       "    </tr>\n",
       "    <tr>\n",
       "      <th>m</th>\n",
       "      <td>3.0129</td>\n",
       "    </tr>\n",
       "    <tr>\n",
       "      <th>n</th>\n",
       "      <td>6.6544</td>\n",
       "    </tr>\n",
       "    <tr>\n",
       "      <th>o</th>\n",
       "      <td>7.1635</td>\n",
       "    </tr>\n",
       "    <tr>\n",
       "      <th>p</th>\n",
       "      <td>3.1671</td>\n",
       "    </tr>\n",
       "    <tr>\n",
       "      <th>q</th>\n",
       "      <td>0.1962</td>\n",
       "    </tr>\n",
       "    <tr>\n",
       "      <th>r</th>\n",
       "      <td>7.5809</td>\n",
       "    </tr>\n",
       "    <tr>\n",
       "      <th>s</th>\n",
       "      <td>5.7351</td>\n",
       "    </tr>\n",
       "    <tr>\n",
       "      <th>t</th>\n",
       "      <td>6.9509</td>\n",
       "    </tr>\n",
       "    <tr>\n",
       "      <th>u</th>\n",
       "      <td>3.6308</td>\n",
       "    </tr>\n",
       "    <tr>\n",
       "      <th>v</th>\n",
       "      <td>1.0074</td>\n",
       "    </tr>\n",
       "    <tr>\n",
       "      <th>w</th>\n",
       "      <td>1.2899</td>\n",
       "    </tr>\n",
       "    <tr>\n",
       "      <th>x</th>\n",
       "      <td>0.2902</td>\n",
       "    </tr>\n",
       "    <tr>\n",
       "      <th>y</th>\n",
       "      <td>1.7779</td>\n",
       "    </tr>\n",
       "    <tr>\n",
       "      <th>z</th>\n",
       "      <td>0.2722</td>\n",
       "    </tr>\n",
       "  </tbody>\n",
       "</table>\n",
       "</div>"
      ],
      "text/plain": [
       "       weight\n",
       "side         \n",
       "a      8.4966\n",
       "b      2.0720\n",
       "c      4.5388\n",
       "d      3.3844\n",
       "e     11.1607\n",
       "f      1.8121\n",
       "g      2.4705\n",
       "h      3.0034\n",
       "i      7.5448\n",
       "j      0.1965\n",
       "k      1.1016\n",
       "l      5.4893\n",
       "m      3.0129\n",
       "n      6.6544\n",
       "o      7.1635\n",
       "p      3.1671\n",
       "q      0.1962\n",
       "r      7.5809\n",
       "s      5.7351\n",
       "t      6.9509\n",
       "u      3.6308\n",
       "v      1.0074\n",
       "w      1.2899\n",
       "x      0.2902\n",
       "y      1.7779\n",
       "z      0.2722"
      ]
     },
     "execution_count": 58,
     "metadata": {},
     "output_type": "execute_result"
    }
   ],
   "source": [
    "die.show_die() # here you can see that all weights have been changed"
   ]
  },
  {
   "cell_type": "markdown",
   "id": "25282c4b-a4d6-4fb4-ae05-a68c1a43645d",
   "metadata": {},
   "source": [
    "Play a game involving 5 of these dice with 1000 rolls."
   ]
  },
  {
   "cell_type": "code",
   "execution_count": 59,
   "id": "082f6ca3-7ad5-4601-aaca-a4445d2fae33",
   "metadata": {},
   "outputs": [],
   "source": [
    "dice = [die, die, die, die, die]\n",
    "game = Game(dice)"
   ]
  },
  {
   "cell_type": "code",
   "execution_count": 60,
   "id": "168e6baa-1a4a-4b5d-af7c-03f274e72fde",
   "metadata": {},
   "outputs": [],
   "source": [
    "game.play(1000)"
   ]
  },
  {
   "cell_type": "markdown",
   "id": "9172e8c0-0753-45ef-b16a-e1a8a5582b63",
   "metadata": {},
   "source": [
    "The code cell below will show the entire dataframe if desired."
   ]
  },
  {
   "cell_type": "code",
   "execution_count": 61,
   "id": "0731cdbe-73d7-47e3-b068-5490bbece976",
   "metadata": {},
   "outputs": [],
   "source": [
    "#with pd.option_context('display.max_rows', None,\n",
    "#                       'display.max_columns', None,\n",
    "#                       'display.precision', 3,\n",
    "#                       ):\n",
    "#    print(game.show_results())"
   ]
  },
  {
   "cell_type": "code",
   "execution_count": 62,
   "id": "3f10a3d5-93ec-46a3-b87d-7b0998a89d7e",
   "metadata": {},
   "outputs": [
    {
     "data": {
      "text/html": [
       "<div>\n",
       "<style scoped>\n",
       "    .dataframe tbody tr th:only-of-type {\n",
       "        vertical-align: middle;\n",
       "    }\n",
       "\n",
       "    .dataframe tbody tr th {\n",
       "        vertical-align: top;\n",
       "    }\n",
       "\n",
       "    .dataframe thead th {\n",
       "        text-align: right;\n",
       "    }\n",
       "</style>\n",
       "<table border=\"1\" class=\"dataframe\">\n",
       "  <thead>\n",
       "    <tr style=\"text-align: right;\">\n",
       "      <th>die_number</th>\n",
       "      <th>0</th>\n",
       "      <th>1</th>\n",
       "      <th>2</th>\n",
       "      <th>3</th>\n",
       "      <th>4</th>\n",
       "    </tr>\n",
       "    <tr>\n",
       "      <th>roll_number</th>\n",
       "      <th></th>\n",
       "      <th></th>\n",
       "      <th></th>\n",
       "      <th></th>\n",
       "      <th></th>\n",
       "    </tr>\n",
       "  </thead>\n",
       "  <tbody>\n",
       "    <tr>\n",
       "      <th>0</th>\n",
       "      <td>l</td>\n",
       "      <td>t</td>\n",
       "      <td>i</td>\n",
       "      <td>s</td>\n",
       "      <td>b</td>\n",
       "    </tr>\n",
       "    <tr>\n",
       "      <th>1</th>\n",
       "      <td>g</td>\n",
       "      <td>o</td>\n",
       "      <td>i</td>\n",
       "      <td>e</td>\n",
       "      <td>w</td>\n",
       "    </tr>\n",
       "    <tr>\n",
       "      <th>2</th>\n",
       "      <td>r</td>\n",
       "      <td>t</td>\n",
       "      <td>i</td>\n",
       "      <td>o</td>\n",
       "      <td>o</td>\n",
       "    </tr>\n",
       "    <tr>\n",
       "      <th>3</th>\n",
       "      <td>i</td>\n",
       "      <td>e</td>\n",
       "      <td>o</td>\n",
       "      <td>e</td>\n",
       "      <td>a</td>\n",
       "    </tr>\n",
       "    <tr>\n",
       "      <th>4</th>\n",
       "      <td>s</td>\n",
       "      <td>m</td>\n",
       "      <td>n</td>\n",
       "      <td>a</td>\n",
       "      <td>t</td>\n",
       "    </tr>\n",
       "    <tr>\n",
       "      <th>5</th>\n",
       "      <td>a</td>\n",
       "      <td>p</td>\n",
       "      <td>g</td>\n",
       "      <td>h</td>\n",
       "      <td>p</td>\n",
       "    </tr>\n",
       "    <tr>\n",
       "      <th>6</th>\n",
       "      <td>y</td>\n",
       "      <td>r</td>\n",
       "      <td>n</td>\n",
       "      <td>e</td>\n",
       "      <td>i</td>\n",
       "    </tr>\n",
       "    <tr>\n",
       "      <th>7</th>\n",
       "      <td>n</td>\n",
       "      <td>e</td>\n",
       "      <td>c</td>\n",
       "      <td>o</td>\n",
       "      <td>g</td>\n",
       "    </tr>\n",
       "    <tr>\n",
       "      <th>8</th>\n",
       "      <td>a</td>\n",
       "      <td>m</td>\n",
       "      <td>t</td>\n",
       "      <td>h</td>\n",
       "      <td>n</td>\n",
       "    </tr>\n",
       "    <tr>\n",
       "      <th>9</th>\n",
       "      <td>l</td>\n",
       "      <td>e</td>\n",
       "      <td>g</td>\n",
       "      <td>c</td>\n",
       "      <td>n</td>\n",
       "    </tr>\n",
       "  </tbody>\n",
       "</table>\n",
       "</div>"
      ],
      "text/plain": [
       "die_number   0  1  2  3  4\n",
       "roll_number               \n",
       "0            l  t  i  s  b\n",
       "1            g  o  i  e  w\n",
       "2            r  t  i  o  o\n",
       "3            i  e  o  e  a\n",
       "4            s  m  n  a  t\n",
       "5            a  p  g  h  p\n",
       "6            y  r  n  e  i\n",
       "7            n  e  c  o  g\n",
       "8            a  m  t  h  n\n",
       "9            l  e  g  c  n"
      ]
     },
     "execution_count": 62,
     "metadata": {},
     "output_type": "execute_result"
    }
   ],
   "source": [
    "game.show_results().head(10)"
   ]
  },
  {
   "cell_type": "code",
   "execution_count": 63,
   "id": "92e092c9-b681-41b2-a782-da88794648ee",
   "metadata": {},
   "outputs": [
    {
     "data": {
      "text/html": [
       "<div>\n",
       "<style scoped>\n",
       "    .dataframe tbody tr th:only-of-type {\n",
       "        vertical-align: middle;\n",
       "    }\n",
       "\n",
       "    .dataframe tbody tr th {\n",
       "        vertical-align: top;\n",
       "    }\n",
       "\n",
       "    .dataframe thead th {\n",
       "        text-align: right;\n",
       "    }\n",
       "</style>\n",
       "<table border=\"1\" class=\"dataframe\">\n",
       "  <thead>\n",
       "    <tr style=\"text-align: right;\">\n",
       "      <th>die_number</th>\n",
       "      <th>0</th>\n",
       "      <th>1</th>\n",
       "      <th>2</th>\n",
       "      <th>3</th>\n",
       "      <th>4</th>\n",
       "    </tr>\n",
       "    <tr>\n",
       "      <th>roll_number</th>\n",
       "      <th></th>\n",
       "      <th></th>\n",
       "      <th></th>\n",
       "      <th></th>\n",
       "      <th></th>\n",
       "    </tr>\n",
       "  </thead>\n",
       "  <tbody>\n",
       "    <tr>\n",
       "      <th>990</th>\n",
       "      <td>b</td>\n",
       "      <td>m</td>\n",
       "      <td>r</td>\n",
       "      <td>t</td>\n",
       "      <td>c</td>\n",
       "    </tr>\n",
       "    <tr>\n",
       "      <th>991</th>\n",
       "      <td>n</td>\n",
       "      <td>s</td>\n",
       "      <td>u</td>\n",
       "      <td>h</td>\n",
       "      <td>m</td>\n",
       "    </tr>\n",
       "    <tr>\n",
       "      <th>992</th>\n",
       "      <td>x</td>\n",
       "      <td>r</td>\n",
       "      <td>c</td>\n",
       "      <td>p</td>\n",
       "      <td>s</td>\n",
       "    </tr>\n",
       "    <tr>\n",
       "      <th>993</th>\n",
       "      <td>p</td>\n",
       "      <td>n</td>\n",
       "      <td>a</td>\n",
       "      <td>u</td>\n",
       "      <td>d</td>\n",
       "    </tr>\n",
       "    <tr>\n",
       "      <th>994</th>\n",
       "      <td>e</td>\n",
       "      <td>i</td>\n",
       "      <td>f</td>\n",
       "      <td>t</td>\n",
       "      <td>b</td>\n",
       "    </tr>\n",
       "    <tr>\n",
       "      <th>995</th>\n",
       "      <td>l</td>\n",
       "      <td>o</td>\n",
       "      <td>f</td>\n",
       "      <td>a</td>\n",
       "      <td>t</td>\n",
       "    </tr>\n",
       "    <tr>\n",
       "      <th>996</th>\n",
       "      <td>c</td>\n",
       "      <td>i</td>\n",
       "      <td>m</td>\n",
       "      <td>r</td>\n",
       "      <td>r</td>\n",
       "    </tr>\n",
       "    <tr>\n",
       "      <th>997</th>\n",
       "      <td>u</td>\n",
       "      <td>o</td>\n",
       "      <td>e</td>\n",
       "      <td>e</td>\n",
       "      <td>i</td>\n",
       "    </tr>\n",
       "    <tr>\n",
       "      <th>998</th>\n",
       "      <td>c</td>\n",
       "      <td>s</td>\n",
       "      <td>w</td>\n",
       "      <td>r</td>\n",
       "      <td>h</td>\n",
       "    </tr>\n",
       "    <tr>\n",
       "      <th>999</th>\n",
       "      <td>e</td>\n",
       "      <td>n</td>\n",
       "      <td>a</td>\n",
       "      <td>p</td>\n",
       "      <td>u</td>\n",
       "    </tr>\n",
       "  </tbody>\n",
       "</table>\n",
       "</div>"
      ],
      "text/plain": [
       "die_number   0  1  2  3  4\n",
       "roll_number               \n",
       "990          b  m  r  t  c\n",
       "991          n  s  u  h  m\n",
       "992          x  r  c  p  s\n",
       "993          p  n  a  u  d\n",
       "994          e  i  f  t  b\n",
       "995          l  o  f  a  t\n",
       "996          c  i  m  r  r\n",
       "997          u  o  e  e  i\n",
       "998          c  s  w  r  h\n",
       "999          e  n  a  p  u"
      ]
     },
     "execution_count": 63,
     "metadata": {},
     "output_type": "execute_result"
    }
   ],
   "source": [
    "game.show_results().tail(10)"
   ]
  },
  {
   "cell_type": "markdown",
   "id": "ca30e533-96ab-43cd-b08d-3aa01a07ebd0",
   "metadata": {},
   "source": [
    "After viewing the dataset, it appears that there are about 5 five-letter words made from the dice face combinations."
   ]
  },
  {
   "cell_type": "markdown",
   "id": "4f03768a-9d38-4de6-860e-5921ebc6f1db",
   "metadata": {},
   "source": [
    "Based on your eye count, what is the relative frequency of these words versus the rest?"
   ]
  },
  {
   "cell_type": "markdown",
   "id": "e1d77297-98f0-46e9-8a32-584774dbdc6e",
   "metadata": {},
   "source": [
    "It appears that words are not incredibly frequent in the dataframe. Based on an estimation of 5 words, the frequency of full words would be low."
   ]
  },
  {
   "cell_type": "code",
   "execution_count": 64,
   "id": "dab61ece-4ea8-4f8f-ba9e-ed92acbd6e2e",
   "metadata": {},
   "outputs": [
    {
     "name": "stdout",
     "output_type": "stream",
     "text": [
      "0.005\n"
     ]
    }
   ],
   "source": [
    "word_freq = 5/1000\n",
    "print(word_freq)"
   ]
  },
  {
   "cell_type": "markdown",
   "id": "bfea1ee7-a5ca-42e4-87c9-f95949671282",
   "metadata": {},
   "source": [
    "The frequency of word appearance is approximately 0.005."
   ]
  },
  {
   "cell_type": "markdown",
   "id": "6ced706c-19e7-4e79-b171-bfb076f822b4",
   "metadata": {},
   "source": [
    "# Directory Listing\n",
    "\n",
    "A code block that executes the following bash command: \n",
    "\n",
    "```bash\n",
    "!ls -lRF -o\n",
    "```"
   ]
  },
  {
   "cell_type": "code",
   "execution_count": 65,
   "id": "5dbd35c2-e479-4179-b792-997d4293ba96",
   "metadata": {},
   "outputs": [
    {
     "name": "stdout",
     "output_type": "stream",
     "text": [
      "total 368\n",
      "-rw-r--r--  1 eveschoenrock   1066 Jul 12 09:55 LICENSE\n",
      "-rw-r--r--  1 eveschoenrock   8097 Jul 13 16:02 README.md\n",
      "-rw-r--r--  1 eveschoenrock  65284 Jul 13 16:08 final-project-submission.ipynb\n",
      "drwxr-xr-x@ 7 eveschoenrock    224 Jul 13 09:02 \u001b[34mmontecarlo\u001b[m\u001b[m/\n",
      "drwxr-xr-x@ 6 eveschoenrock    192 Jul 13 09:02 \u001b[34mmontecarlo.egg-info\u001b[m\u001b[m/\n",
      "-rw-r--r--  1 eveschoenrock    835 Jul 13 15:29 montecarlo_results.txt\n",
      "-rw-r--r--  1 eveschoenrock  11341 Jul 13 16:05 montecarlo_tests.py\n",
      "-rw-r--r--@ 1 eveschoenrock  89804 Jul 13 16:05 scenarios.ipynb\n",
      "-rw-r--r--  1 eveschoenrock    345 Jul 12 09:59 setup.py\n",
      "\n",
      "./montecarlo:\n",
      "total 24\n",
      "-rw-r--r--  1 eveschoenrock     0 Jul 12 09:58 __init__.py\n",
      "drwxr-xr-x@ 4 eveschoenrock   128 Jul 13 09:02 \u001b[34m__pycache__\u001b[m\u001b[m/\n",
      "-rw-r--r--  1 eveschoenrock  8963 Jul 13 16:05 montecarlo.py\n",
      "\n",
      "./montecarlo/__pycache__:\n",
      "total 24\n",
      "-rw-r--r--  1 eveschoenrock   154 Jul 12 10:02 __init__.cpython-37.pyc\n",
      "-rw-r--r--  1 eveschoenrock  8182 Jul 13 16:05 montecarlo.cpython-37.pyc\n",
      "\n",
      "./montecarlo.egg-info:\n",
      "total 32\n",
      "-rw-r--r--  1 eveschoenrock  267 Jul 13 15:58 PKG-INFO\n",
      "-rw-r--r--  1 eveschoenrock  210 Jul 13 15:58 SOURCES.txt\n",
      "-rw-r--r--  1 eveschoenrock    1 Jul 13 15:58 dependency_links.txt\n",
      "-rw-r--r--  1 eveschoenrock   11 Jul 13 15:58 top_level.txt\n"
     ]
    }
   ],
   "source": [
    "!ls -lRF -o"
   ]
  },
  {
   "cell_type": "markdown",
   "id": "c4df835c-3cd7-4c74-a4de-51638607680b",
   "metadata": {
    "tags": []
   },
   "source": [
    "# Installation Output Listing\n",
    "    \n",
    "A code block that executes the code to install your your package and outputs a successful installation."
   ]
  },
  {
   "cell_type": "code",
   "execution_count": 66,
   "id": "3f8d0ced-8841-4357-bda1-151880cf91a0",
   "metadata": {},
   "outputs": [
    {
     "name": "stdout",
     "output_type": "stream",
     "text": [
      "Obtaining file:///Users/eveschoenrock/Desktop/Code/montecarlo\n",
      "Installing collected packages: montecarlo\n",
      "  Attempting uninstall: montecarlo\n",
      "    Found existing installation: montecarlo 1.0.0\n",
      "    Uninstalling montecarlo-1.0.0:\n",
      "      Successfully uninstalled montecarlo-1.0.0\n",
      "  Running setup.py develop for montecarlo\n",
      "Successfully installed montecarlo-1.0.0\n",
      "Note: you may need to restart the kernel to use updated packages.\n"
     ]
    }
   ],
   "source": [
    "pip install -e ."
   ]
  }
 ],
 "metadata": {
  "kernelspec": {
   "display_name": "Python 3 (ipykernel)",
   "language": "python",
   "name": "python3"
  },
  "language_info": {
   "codemirror_mode": {
    "name": "ipython",
    "version": 3
   },
   "file_extension": ".py",
   "mimetype": "text/x-python",
   "name": "python",
   "nbconvert_exporter": "python",
   "pygments_lexer": "ipython3",
   "version": "3.7.6"
  },
  "widgets": {
   "application/vnd.jupyter.widget-state+json": {
    "state": {},
    "version_major": 2,
    "version_minor": 0
   }
  }
 },
 "nbformat": 4,
 "nbformat_minor": 5
}
